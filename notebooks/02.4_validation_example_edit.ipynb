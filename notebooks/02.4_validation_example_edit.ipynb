{
 "cells": [
  {
   "cell_type": "code",
   "execution_count": 231,
   "metadata": {
    "collapsed": true,
    "ExecuteTime": {
     "end_time": "2023-08-20T20:17:03.676130Z",
     "start_time": "2023-08-20T20:17:03.620746Z"
    }
   },
   "outputs": [],
   "source": [
    "import os\n",
    "import random\n",
    "import numpy as np\n",
    "import pandas as pd\n",
    "from tqdm.notebook import tqdm"
   ]
  },
  {
   "cell_type": "markdown",
   "source": [
    "# Setup"
   ],
   "metadata": {
    "collapsed": false
   }
  },
  {
   "cell_type": "code",
   "execution_count": 232,
   "outputs": [],
   "source": [
    "class Config:\n",
    "    seed = 1707\n",
    "    test_size = 0.2"
   ],
   "metadata": {
    "collapsed": false,
    "ExecuteTime": {
     "end_time": "2023-08-20T20:17:03.766516Z",
     "start_time": "2023-08-20T20:17:03.635427Z"
    }
   }
  },
  {
   "cell_type": "code",
   "execution_count": 233,
   "outputs": [],
   "source": [
    "def set_all_seeds(seed):\n",
    "    # python's seeds\n",
    "    random.seed(seed)\n",
    "    os.environ['PYTHONHASHSEED'] = str(seed)\n",
    "    np.random.seed(seed)\n",
    "\n",
    "set_all_seeds(seed=Config.seed)"
   ],
   "metadata": {
    "collapsed": false,
    "ExecuteTime": {
     "end_time": "2023-08-20T20:17:03.766658Z",
     "start_time": "2023-08-20T20:17:03.638117Z"
    }
   }
  },
  {
   "cell_type": "markdown",
   "source": [
    "# Load data"
   ],
   "metadata": {
    "collapsed": false
   }
  },
  {
   "cell_type": "code",
   "execution_count": 234,
   "outputs": [],
   "source": [
    "train = pd.read_csv('../data/car_train.csv')\n",
    "test = pd.read_csv('../data/car_test.csv')"
   ],
   "metadata": {
    "collapsed": false,
    "ExecuteTime": {
     "end_time": "2023-08-20T20:17:03.807987Z",
     "start_time": "2023-08-20T20:17:03.643320Z"
    }
   }
  },
  {
   "cell_type": "code",
   "execution_count": 235,
   "outputs": [
    {
     "data": {
      "text/plain": "          car_id           model  car_type fuel_type  car_rating  \\\n435   g-1503076Q   Smart ForFour   economy    petrol        6.08   \n2285  I69261244y  Nissan Qashqai  standart    petrol        4.18   \n1245  O-2688441F   Tesla Model 3   premium   electro        4.82   \n\n      year_to_start  riders  year_to_work  target_reg  target_class  \n435            2017  134494          2017       48.26  engine_check  \n2285           2015   87802          2021       98.30   another_bug  \n1245           2015   80038          2021       56.28   engine_fuel  ",
      "text/html": "<div>\n<style scoped>\n    .dataframe tbody tr th:only-of-type {\n        vertical-align: middle;\n    }\n\n    .dataframe tbody tr th {\n        vertical-align: top;\n    }\n\n    .dataframe thead th {\n        text-align: right;\n    }\n</style>\n<table border=\"1\" class=\"dataframe\">\n  <thead>\n    <tr style=\"text-align: right;\">\n      <th></th>\n      <th>car_id</th>\n      <th>model</th>\n      <th>car_type</th>\n      <th>fuel_type</th>\n      <th>car_rating</th>\n      <th>year_to_start</th>\n      <th>riders</th>\n      <th>year_to_work</th>\n      <th>target_reg</th>\n      <th>target_class</th>\n    </tr>\n  </thead>\n  <tbody>\n    <tr>\n      <th>435</th>\n      <td>g-1503076Q</td>\n      <td>Smart ForFour</td>\n      <td>economy</td>\n      <td>petrol</td>\n      <td>6.08</td>\n      <td>2017</td>\n      <td>134494</td>\n      <td>2017</td>\n      <td>48.26</td>\n      <td>engine_check</td>\n    </tr>\n    <tr>\n      <th>2285</th>\n      <td>I69261244y</td>\n      <td>Nissan Qashqai</td>\n      <td>standart</td>\n      <td>petrol</td>\n      <td>4.18</td>\n      <td>2015</td>\n      <td>87802</td>\n      <td>2021</td>\n      <td>98.30</td>\n      <td>another_bug</td>\n    </tr>\n    <tr>\n      <th>1245</th>\n      <td>O-2688441F</td>\n      <td>Tesla Model 3</td>\n      <td>premium</td>\n      <td>electro</td>\n      <td>4.82</td>\n      <td>2015</td>\n      <td>80038</td>\n      <td>2021</td>\n      <td>56.28</td>\n      <td>engine_fuel</td>\n    </tr>\n  </tbody>\n</table>\n</div>"
     },
     "execution_count": 235,
     "metadata": {},
     "output_type": "execute_result"
    }
   ],
   "source": [
    "train.sample(3)"
   ],
   "metadata": {
    "collapsed": false,
    "ExecuteTime": {
     "end_time": "2023-08-20T20:17:03.809191Z",
     "start_time": "2023-08-20T20:17:03.657530Z"
    }
   }
  },
  {
   "cell_type": "code",
   "execution_count": 236,
   "outputs": [
    {
     "data": {
      "text/plain": "          car_id           model  car_type fuel_type  car_rating  \\\n607   I-1503695V  Nissan Qashqai  standart    petrol        4.56   \n1859  T-2294411h     Skoda Rapid   economy    petrol        5.28   \n1446  E-5337479S     Skoda Rapid   economy    petrol        4.54   \n\n      year_to_start  riders  year_to_work  \n607            2013   39508          2021  \n1859           2014   60231          2016  \n1446           2013   42677          2017  ",
      "text/html": "<div>\n<style scoped>\n    .dataframe tbody tr th:only-of-type {\n        vertical-align: middle;\n    }\n\n    .dataframe tbody tr th {\n        vertical-align: top;\n    }\n\n    .dataframe thead th {\n        text-align: right;\n    }\n</style>\n<table border=\"1\" class=\"dataframe\">\n  <thead>\n    <tr style=\"text-align: right;\">\n      <th></th>\n      <th>car_id</th>\n      <th>model</th>\n      <th>car_type</th>\n      <th>fuel_type</th>\n      <th>car_rating</th>\n      <th>year_to_start</th>\n      <th>riders</th>\n      <th>year_to_work</th>\n    </tr>\n  </thead>\n  <tbody>\n    <tr>\n      <th>607</th>\n      <td>I-1503695V</td>\n      <td>Nissan Qashqai</td>\n      <td>standart</td>\n      <td>petrol</td>\n      <td>4.56</td>\n      <td>2013</td>\n      <td>39508</td>\n      <td>2021</td>\n    </tr>\n    <tr>\n      <th>1859</th>\n      <td>T-2294411h</td>\n      <td>Skoda Rapid</td>\n      <td>economy</td>\n      <td>petrol</td>\n      <td>5.28</td>\n      <td>2014</td>\n      <td>60231</td>\n      <td>2016</td>\n    </tr>\n    <tr>\n      <th>1446</th>\n      <td>E-5337479S</td>\n      <td>Skoda Rapid</td>\n      <td>economy</td>\n      <td>petrol</td>\n      <td>4.54</td>\n      <td>2013</td>\n      <td>42677</td>\n      <td>2017</td>\n    </tr>\n  </tbody>\n</table>\n</div>"
     },
     "execution_count": 236,
     "metadata": {},
     "output_type": "execute_result"
    }
   ],
   "source": [
    "test.sample(3)"
   ],
   "metadata": {
    "collapsed": false,
    "ExecuteTime": {
     "end_time": "2023-08-20T20:17:03.809267Z",
     "start_time": "2023-08-20T20:17:03.661600Z"
    }
   }
  },
  {
   "cell_type": "markdown",
   "source": [
    "# Feature engineering"
   ],
   "metadata": {
    "collapsed": false
   }
  },
  {
   "cell_type": "code",
   "execution_count": 237,
   "outputs": [
    {
     "data": {
      "text/plain": "           user_id      car_id ride_id   ride_date  rating  ride_duration  \\\n478669  P16103023s  h20080273C     Y1g  2020-03-30    6.48             13   \n256062  g50133062h  R61678217L     F1m  2020-02-27    5.34             36   \n451753  C34625892I  f61508634I     s1N  2020-01-27    6.81             56   \n\n        ride_cost  speed_avg  speed_max  stop_times     distance  refueling  \\\n478669        177         33  42.160949           0   393.856126          0   \n256062        461         49  73.000000           1   745.277404          0   \n451753        889         46  67.000000           1  2089.670705          0   \n\n        user_ride_quality  deviation_normal  \n478669           3.189878             1.339  \n256062           1.723490            -1.567  \n451753         -10.100461             0.184  ",
      "text/html": "<div>\n<style scoped>\n    .dataframe tbody tr th:only-of-type {\n        vertical-align: middle;\n    }\n\n    .dataframe tbody tr th {\n        vertical-align: top;\n    }\n\n    .dataframe thead th {\n        text-align: right;\n    }\n</style>\n<table border=\"1\" class=\"dataframe\">\n  <thead>\n    <tr style=\"text-align: right;\">\n      <th></th>\n      <th>user_id</th>\n      <th>car_id</th>\n      <th>ride_id</th>\n      <th>ride_date</th>\n      <th>rating</th>\n      <th>ride_duration</th>\n      <th>ride_cost</th>\n      <th>speed_avg</th>\n      <th>speed_max</th>\n      <th>stop_times</th>\n      <th>distance</th>\n      <th>refueling</th>\n      <th>user_ride_quality</th>\n      <th>deviation_normal</th>\n    </tr>\n  </thead>\n  <tbody>\n    <tr>\n      <th>478669</th>\n      <td>P16103023s</td>\n      <td>h20080273C</td>\n      <td>Y1g</td>\n      <td>2020-03-30</td>\n      <td>6.48</td>\n      <td>13</td>\n      <td>177</td>\n      <td>33</td>\n      <td>42.160949</td>\n      <td>0</td>\n      <td>393.856126</td>\n      <td>0</td>\n      <td>3.189878</td>\n      <td>1.339</td>\n    </tr>\n    <tr>\n      <th>256062</th>\n      <td>g50133062h</td>\n      <td>R61678217L</td>\n      <td>F1m</td>\n      <td>2020-02-27</td>\n      <td>5.34</td>\n      <td>36</td>\n      <td>461</td>\n      <td>49</td>\n      <td>73.000000</td>\n      <td>1</td>\n      <td>745.277404</td>\n      <td>0</td>\n      <td>1.723490</td>\n      <td>-1.567</td>\n    </tr>\n    <tr>\n      <th>451753</th>\n      <td>C34625892I</td>\n      <td>f61508634I</td>\n      <td>s1N</td>\n      <td>2020-01-27</td>\n      <td>6.81</td>\n      <td>56</td>\n      <td>889</td>\n      <td>46</td>\n      <td>67.000000</td>\n      <td>1</td>\n      <td>2089.670705</td>\n      <td>0</td>\n      <td>-10.100461</td>\n      <td>0.184</td>\n    </tr>\n  </tbody>\n</table>\n</div>"
     },
     "execution_count": 237,
     "metadata": {},
     "output_type": "execute_result"
    }
   ],
   "source": [
    "rides = pd.read_csv('../data/rides_info.csv')\n",
    "rides.sample(3)"
   ],
   "metadata": {
    "collapsed": false,
    "ExecuteTime": {
     "end_time": "2023-08-20T20:17:04.243451Z",
     "start_time": "2023-08-20T20:17:03.663898Z"
    }
   }
  },
  {
   "cell_type": "code",
   "execution_count": 238,
   "outputs": [
    {
     "data": {
      "text/plain": "       car_id  mean_rating  distance_sum  rating_min   speed_max  \\\n0  A-1049127W     4.255172  1.125753e+07         0.1  179.729652   \n1  A-1079539w     4.088046  1.912765e+07         0.1  184.505566   \n2  A-1162143G     4.662299  2.995194e+06         0.1  180.000000   \n\n   user_ride_quality_median  deviation_normal_count  user_uniq  \n0                 -0.288229                     174        172  \n1                  2.508746                     174        173  \n2                  0.639653                     174        172  ",
      "text/html": "<div>\n<style scoped>\n    .dataframe tbody tr th:only-of-type {\n        vertical-align: middle;\n    }\n\n    .dataframe tbody tr th {\n        vertical-align: top;\n    }\n\n    .dataframe thead th {\n        text-align: right;\n    }\n</style>\n<table border=\"1\" class=\"dataframe\">\n  <thead>\n    <tr style=\"text-align: right;\">\n      <th></th>\n      <th>car_id</th>\n      <th>mean_rating</th>\n      <th>distance_sum</th>\n      <th>rating_min</th>\n      <th>speed_max</th>\n      <th>user_ride_quality_median</th>\n      <th>deviation_normal_count</th>\n      <th>user_uniq</th>\n    </tr>\n  </thead>\n  <tbody>\n    <tr>\n      <th>0</th>\n      <td>A-1049127W</td>\n      <td>4.255172</td>\n      <td>1.125753e+07</td>\n      <td>0.1</td>\n      <td>179.729652</td>\n      <td>-0.288229</td>\n      <td>174</td>\n      <td>172</td>\n    </tr>\n    <tr>\n      <th>1</th>\n      <td>A-1079539w</td>\n      <td>4.088046</td>\n      <td>1.912765e+07</td>\n      <td>0.1</td>\n      <td>184.505566</td>\n      <td>2.508746</td>\n      <td>174</td>\n      <td>173</td>\n    </tr>\n    <tr>\n      <th>2</th>\n      <td>A-1162143G</td>\n      <td>4.662299</td>\n      <td>2.995194e+06</td>\n      <td>0.1</td>\n      <td>180.000000</td>\n      <td>0.639653</td>\n      <td>174</td>\n      <td>172</td>\n    </tr>\n  </tbody>\n</table>\n</div>"
     },
     "execution_count": 238,
     "metadata": {},
     "output_type": "execute_result"
    }
   ],
   "source": [
    "rides_df_gr = rides.groupby('car_id', as_index=False).agg(\n",
    "    mean_rating=('rating', 'mean'),\n",
    "    distance_sum=('distance', 'sum'),\n",
    "    rating_min=('rating', 'min'),\n",
    "    speed_max=('speed_max', 'max'),\n",
    "    user_ride_quality_median=('user_ride_quality', 'median'),\n",
    "    deviation_normal_count=('deviation_normal', 'count'),\n",
    "    user_uniq=('user_id', lambda x: x.nunique())\n",
    ")\n",
    "#\n",
    "rides_df_gr.head(3)"
   ],
   "metadata": {
    "collapsed": false,
    "ExecuteTime": {
     "end_time": "2023-08-20T20:17:04.444045Z",
     "start_time": "2023-08-20T20:17:04.244433Z"
    }
   }
  },
  {
   "cell_type": "code",
   "execution_count": 239,
   "outputs": [],
   "source": [
    "def add_feature(df):\n",
    "\n",
    "    if 'mean_rating' not in df.columns:\n",
    "        return df.merge(rides_df_gr, on='car_id', how='left')\n",
    "    return df\n",
    "\n",
    "train = add_feature(train)\n",
    "test = add_feature(test)"
   ],
   "metadata": {
    "collapsed": false,
    "ExecuteTime": {
     "end_time": "2023-08-20T20:17:04.460425Z",
     "start_time": "2023-08-20T20:17:04.443171Z"
    }
   }
  },
  {
   "cell_type": "markdown",
   "source": [
    "## Encode categorical features as a one-hot"
   ],
   "metadata": {
    "collapsed": false
   }
  },
  {
   "cell_type": "code",
   "execution_count": 240,
   "outputs": [
    {
     "data": {
      "text/plain": "          car_id  car_rating  year_to_start  riders  year_to_work  target_reg  \\\n1799  F21467141f        3.96           2015   86262          2016       29.02   \n260   G13398649k        4.20           2014   65872          2017       54.52   \n1112  v22019991n        3.24           2015   78360          2021       34.65   \n\n         target_class  mean_rating  distance_sum  rating_min  ...  \\\n1799      electro_bug     4.283908  2.034780e+07         0.0  ...   \n260   engine_ignition     4.133391  1.722725e+07         0.1  ...   \n1112      electro_bug     4.155057  1.303144e+07         0.0  ...   \n\n      model_Renault Sandero  model_Skoda Rapid  model_Smart Coupe  \\\n1799                  False              False              False   \n260                   False              False              False   \n1112                  False              False              False   \n\n      model_Smart ForFour  model_Smart ForTwo  model_Tesla Model 3  \\\n1799                False               False                False   \n260                 False               False                False   \n1112                False               False                False   \n\n      model_VW Polo  model_VW Polo VI  model_VW Tiguan  model_Volkswagen ID.4   \n1799          False             False            False                   False  \n260            True             False            False                   False  \n1112          False             False            False                   False  \n\n[3 rows x 46 columns]",
      "text/html": "<div>\n<style scoped>\n    .dataframe tbody tr th:only-of-type {\n        vertical-align: middle;\n    }\n\n    .dataframe tbody tr th {\n        vertical-align: top;\n    }\n\n    .dataframe thead th {\n        text-align: right;\n    }\n</style>\n<table border=\"1\" class=\"dataframe\">\n  <thead>\n    <tr style=\"text-align: right;\">\n      <th></th>\n      <th>car_id</th>\n      <th>car_rating</th>\n      <th>year_to_start</th>\n      <th>riders</th>\n      <th>year_to_work</th>\n      <th>target_reg</th>\n      <th>target_class</th>\n      <th>mean_rating</th>\n      <th>distance_sum</th>\n      <th>rating_min</th>\n      <th>...</th>\n      <th>model_Renault Sandero</th>\n      <th>model_Skoda Rapid</th>\n      <th>model_Smart Coupe</th>\n      <th>model_Smart ForFour</th>\n      <th>model_Smart ForTwo</th>\n      <th>model_Tesla Model 3</th>\n      <th>model_VW Polo</th>\n      <th>model_VW Polo VI</th>\n      <th>model_VW Tiguan</th>\n      <th>model_Volkswagen ID.4</th>\n    </tr>\n  </thead>\n  <tbody>\n    <tr>\n      <th>1799</th>\n      <td>F21467141f</td>\n      <td>3.96</td>\n      <td>2015</td>\n      <td>86262</td>\n      <td>2016</td>\n      <td>29.02</td>\n      <td>electro_bug</td>\n      <td>4.283908</td>\n      <td>2.034780e+07</td>\n      <td>0.0</td>\n      <td>...</td>\n      <td>False</td>\n      <td>False</td>\n      <td>False</td>\n      <td>False</td>\n      <td>False</td>\n      <td>False</td>\n      <td>False</td>\n      <td>False</td>\n      <td>False</td>\n      <td>False</td>\n    </tr>\n    <tr>\n      <th>260</th>\n      <td>G13398649k</td>\n      <td>4.20</td>\n      <td>2014</td>\n      <td>65872</td>\n      <td>2017</td>\n      <td>54.52</td>\n      <td>engine_ignition</td>\n      <td>4.133391</td>\n      <td>1.722725e+07</td>\n      <td>0.1</td>\n      <td>...</td>\n      <td>False</td>\n      <td>False</td>\n      <td>False</td>\n      <td>False</td>\n      <td>False</td>\n      <td>False</td>\n      <td>True</td>\n      <td>False</td>\n      <td>False</td>\n      <td>False</td>\n    </tr>\n    <tr>\n      <th>1112</th>\n      <td>v22019991n</td>\n      <td>3.24</td>\n      <td>2015</td>\n      <td>78360</td>\n      <td>2021</td>\n      <td>34.65</td>\n      <td>electro_bug</td>\n      <td>4.155057</td>\n      <td>1.303144e+07</td>\n      <td>0.0</td>\n      <td>...</td>\n      <td>False</td>\n      <td>False</td>\n      <td>False</td>\n      <td>False</td>\n      <td>False</td>\n      <td>False</td>\n      <td>False</td>\n      <td>False</td>\n      <td>False</td>\n      <td>False</td>\n    </tr>\n  </tbody>\n</table>\n<p>3 rows × 46 columns</p>\n</div>"
     },
     "execution_count": 240,
     "metadata": {},
     "output_type": "execute_result"
    }
   ],
   "source": [
    "features_cat = ['car_type', 'fuel_type', 'model']\n",
    "train = pd.get_dummies(train, columns=features_cat)\n",
    "test = pd.get_dummies(test, columns=features_cat)\n",
    "\n",
    "train.sample(3)"
   ],
   "metadata": {
    "collapsed": false,
    "ExecuteTime": {
     "end_time": "2023-08-20T20:17:04.460832Z",
     "start_time": "2023-08-20T20:17:04.449629Z"
    }
   }
  },
  {
   "cell_type": "markdown",
   "source": [
    "## Classifying the features"
   ],
   "metadata": {
    "collapsed": false
   }
  },
  {
   "cell_type": "code",
   "execution_count": 241,
   "outputs": [],
   "source": [
    "features_drop = ['car_id', 'target_reg']\n",
    "features_target = ['target_class', 'target_reg']\n",
    "features_cat = ['car_type', 'fuel_type', 'model']"
   ],
   "metadata": {
    "collapsed": false,
    "ExecuteTime": {
     "end_time": "2023-08-20T20:17:04.464745Z",
     "start_time": "2023-08-20T20:17:04.460596Z"
    }
   }
  },
  {
   "cell_type": "code",
   "execution_count": 242,
   "outputs": [
    {
     "name": "stdout",
     "output_type": "stream",
     "text": [
      "features_cat: 3, ['car_type', 'fuel_type', 'model']\n",
      "features_num: 43, ['car_rating', 'year_to_start', 'riders', 'year_to_work', 'mean_rating', 'distance_sum', 'rating_min', 'speed_max', 'user_ride_quality_median', 'deviation_normal_count', 'user_uniq', 'car_type_business', 'car_type_economy', 'car_type_premium', 'car_type_standart', 'fuel_type_electro', 'fuel_type_petrol', 'model_Audi A3', 'model_Audi A4', 'model_Audi Q3', 'model_BMW 320i', 'model_Fiat 500', 'model_Hyundai Solaris', 'model_Kia Rio', 'model_Kia Rio X', 'model_Kia Rio X-line', 'model_Kia Sportage', 'model_MINI CooperSE', 'model_Mercedes-Benz E200', 'model_Mercedes-Benz GLC', 'model_Mini Cooper', 'model_Nissan Qashqai', 'model_Renault Kaptur', 'model_Renault Sandero', 'model_Skoda Rapid', 'model_Smart Coupe', 'model_Smart ForFour', 'model_Smart ForTwo', 'model_Tesla Model 3', 'model_VW Polo', 'model_VW Polo VI', 'model_VW Tiguan', 'model_Volkswagen ID.4 ']\n",
      "features_target: 2, ['target_class', 'target_reg']\n",
      "\n"
     ]
    }
   ],
   "source": [
    "features_filtered = [i for i in train.columns if (i not in features_target and i not in features_drop)]\n",
    "features_num = [i for i in features_filtered if i not in features_cat]\n",
    "\n",
    "print(\n",
    "    f'features_cat: {len(features_cat)}, {features_cat}\\n'\n",
    "    f'features_num: {len(features_num)}, {features_num}\\n'\n",
    "    f'features_target: {len(features_target)}, {features_target}\\n'\n",
    ")"
   ],
   "metadata": {
    "collapsed": false,
    "ExecuteTime": {
     "end_time": "2023-08-20T20:17:04.536871Z",
     "start_time": "2023-08-20T20:17:04.463141Z"
    }
   }
  },
  {
   "cell_type": "markdown",
   "source": [
    "# Random Forest with K-fold validation"
   ],
   "metadata": {
    "collapsed": false
   }
  },
  {
   "cell_type": "code",
   "execution_count": 244,
   "outputs": [],
   "source": [
    "from sklearn.ensemble import RandomForestClassifier\n",
    "from sklearn.model_selection import KFold, StratifiedKFold"
   ],
   "metadata": {
    "collapsed": false,
    "ExecuteTime": {
     "end_time": "2023-08-20T20:17:04.537498Z",
     "start_time": "2023-08-20T20:17:04.467378Z"
    }
   }
  },
  {
   "cell_type": "code",
   "execution_count": 246,
   "outputs": [
    {
     "name": "stdout",
     "output_type": "stream",
     "text": [
      "fold: 0 acc: 0.7756410256410257\n",
      "fold: 1 acc: 0.8055555555555556\n",
      "fold: 2 acc: 0.8008565310492506\n",
      "fold: 3 acc: 0.8094218415417559\n",
      "fold: 4 acc: 0.8265524625267666\n",
      "mean accuracy score: 0.8037109375 std: 0.0164545695250253\n"
     ]
    }
   ],
   "source": [
    "X = train[features_filtered].drop(features_target, axis=1, errors='ignore')\n",
    "y = train[['target_class']]\n",
    "\n",
    "n_split = 5\n",
    "clfs = []\n",
    "scores = []\n",
    "\n",
    "kf = KFold(n_splits=n_split, shuffle=True, random_state=Config.seed)\n",
    "for num, (train_index, test_index) in enumerate(kf.split(X)):\n",
    "    X_train, X_test = X.iloc[train_index], X.iloc[test_index]\n",
    "    y_train, y_test = y.iloc[train_index], y.iloc[test_index]\n",
    "\n",
    "    clf = RandomForestClassifier(\n",
    "        n_estimators=2_000,\n",
    "        min_samples_leaf=4,\n",
    "        n_jobs=1,\n",
    "        max_features=0.60,\n",
    "        # class_weight='balanced',\n",
    "        random_state=Config.seed,\n",
    "        max_depth=6\n",
    "    )\n",
    "\n",
    "    clfs.append(clf) # Save model\n",
    "\n",
    "    clf.fit(X_train, y_train[\"target_class\"])\n",
    "\n",
    "    y_pred = clf.predict(X_test)\n",
    "    score = np.mean(np.array(y_pred == y_test['target_class']))\n",
    "    scores.append(score)\n",
    "    print(f'fold: {num} acc: {score}')\n",
    "\n",
    "assert len(clfs) == n_split\n",
    "\n",
    "# Count avg and dispersion for all folds\n",
    "print(f'mean accuracy score: {np.mean(scores, dtype=\"float16\")} std: {np.std(scores)}')"
   ],
   "metadata": {
    "collapsed": false,
    "ExecuteTime": {
     "end_time": "2023-08-20T20:17:29.381710Z",
     "start_time": "2023-08-20T20:17:04.489856Z"
    }
   }
  },
  {
   "cell_type": "code",
   "execution_count": 246,
   "outputs": [],
   "source": [],
   "metadata": {
    "collapsed": false,
    "ExecuteTime": {
     "end_time": "2023-08-20T20:17:29.384177Z",
     "start_time": "2023-08-20T20:17:29.380312Z"
    }
   }
  },
  {
   "cell_type": "code",
   "execution_count": 246,
   "outputs": [],
   "source": [],
   "metadata": {
    "collapsed": false,
    "ExecuteTime": {
     "end_time": "2023-08-20T20:17:29.384327Z",
     "start_time": "2023-08-20T20:17:29.382459Z"
    }
   }
  },
  {
   "cell_type": "code",
   "execution_count": 246,
   "outputs": [],
   "source": [],
   "metadata": {
    "collapsed": false,
    "ExecuteTime": {
     "end_time": "2023-08-20T20:17:29.386462Z",
     "start_time": "2023-08-20T20:17:29.384429Z"
    }
   }
  }
 ],
 "metadata": {
  "kernelspec": {
   "display_name": "Python 3",
   "language": "python",
   "name": "python3"
  },
  "language_info": {
   "codemirror_mode": {
    "name": "ipython",
    "version": 2
   },
   "file_extension": ".py",
   "mimetype": "text/x-python",
   "name": "python",
   "nbconvert_exporter": "python",
   "pygments_lexer": "ipython2",
   "version": "2.7.6"
  }
 },
 "nbformat": 4,
 "nbformat_minor": 0
}
