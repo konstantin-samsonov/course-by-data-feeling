{
 "cells": [
  {
   "cell_type": "code",
   "execution_count": 381,
   "metadata": {
    "collapsed": true,
    "ExecuteTime": {
     "end_time": "2023-08-21T15:17:00.854609Z",
     "start_time": "2023-08-21T15:17:00.831856Z"
    }
   },
   "outputs": [],
   "source": [
    "import os\n",
    "import random\n",
    "import numpy as np\n",
    "import pandas as pd\n",
    "import seaborn as sns\n",
    "from tqdm.notebook import tqdm\n",
    "\n",
    "import warnings\n",
    "warnings.simplefilter(\"ignore\")"
   ]
  },
  {
   "cell_type": "code",
   "execution_count": 382,
   "outputs": [],
   "source": [
    "class Config:\n",
    "    seed = 1707\n",
    "    test_size = 0.2"
   ],
   "metadata": {
    "collapsed": false,
    "ExecuteTime": {
     "end_time": "2023-08-21T15:17:00.890401Z",
     "start_time": "2023-08-21T15:17:00.835215Z"
    }
   }
  },
  {
   "cell_type": "code",
   "execution_count": 383,
   "outputs": [],
   "source": [
    "def set_all_seeds(seed):\n",
    "    # python's seeds\n",
    "    random.seed(seed)\n",
    "    os.environ['PYTHONHASHSEED'] = str(seed)\n",
    "    np.random.seed(seed)\n",
    "\n",
    "set_all_seeds(seed=Config.seed)"
   ],
   "metadata": {
    "collapsed": false,
    "ExecuteTime": {
     "end_time": "2023-08-21T15:17:00.890594Z",
     "start_time": "2023-08-21T15:17:00.840281Z"
    }
   }
  },
  {
   "cell_type": "markdown",
   "source": [
    "# 2.4.8"
   ],
   "metadata": {
    "collapsed": false
   }
  },
  {
   "cell_type": "code",
   "execution_count": 422,
   "outputs": [],
   "source": [
    "def check(target, metric='mean'):\n",
    "    tmp = df.groupby(target, as_index=False)['target_reg'].agg(metric)\n",
    "    sns.catplot(data = tmp, x = target, y = 'target_reg', aspect=2, kind=\"bar\");"
   ],
   "metadata": {
    "collapsed": false,
    "ExecuteTime": {
     "end_time": "2023-08-21T15:21:47.020049Z",
     "start_time": "2023-08-21T15:21:47.017377Z"
    }
   }
  },
  {
   "cell_type": "code",
   "execution_count": 423,
   "outputs": [],
   "source": [
    "# Для тренировочного датасета сгенерируйте 10 номеров фолдов (от 0 и до 9) так, чтобы в каждом фолде среднее значение регрессионного таргета было примерно одинаковым\n",
    "# Номер фолда запишите в новый столбец num_fold. Допускается разброс значений таргета между фолдами = 350 у.е\n",
    "from sklearn.model_selection import StratifiedKFold"
   ],
   "metadata": {
    "collapsed": false,
    "ExecuteTime": {
     "end_time": "2023-08-21T15:21:47.692381Z",
     "start_time": "2023-08-21T15:21:47.688432Z"
    }
   }
  },
  {
   "cell_type": "code",
   "execution_count": 424,
   "outputs": [
    {
     "data": {
      "text/plain": "       car_id  target_reg  num_fold\n0  y13744087j     9492.96       NaN\n1  O41613818T     2656.23       NaN\n2  d-2109686j     1526.11       NaN\n3  u29695600e     1338.00       NaN\n4  N-8915870N      825.72       NaN",
      "text/html": "<div>\n<style scoped>\n    .dataframe tbody tr th:only-of-type {\n        vertical-align: middle;\n    }\n\n    .dataframe tbody tr th {\n        vertical-align: top;\n    }\n\n    .dataframe thead th {\n        text-align: right;\n    }\n</style>\n<table border=\"1\" class=\"dataframe\">\n  <thead>\n    <tr style=\"text-align: right;\">\n      <th></th>\n      <th>car_id</th>\n      <th>target_reg</th>\n      <th>num_fold</th>\n    </tr>\n  </thead>\n  <tbody>\n    <tr>\n      <th>0</th>\n      <td>y13744087j</td>\n      <td>9492.96</td>\n      <td>NaN</td>\n    </tr>\n    <tr>\n      <th>1</th>\n      <td>O41613818T</td>\n      <td>2656.23</td>\n      <td>NaN</td>\n    </tr>\n    <tr>\n      <th>2</th>\n      <td>d-2109686j</td>\n      <td>1526.11</td>\n      <td>NaN</td>\n    </tr>\n    <tr>\n      <th>3</th>\n      <td>u29695600e</td>\n      <td>1338.00</td>\n      <td>NaN</td>\n    </tr>\n    <tr>\n      <th>4</th>\n      <td>N-8915870N</td>\n      <td>825.72</td>\n      <td>NaN</td>\n    </tr>\n  </tbody>\n</table>\n</div>"
     },
     "execution_count": 424,
     "metadata": {},
     "output_type": "execute_result"
    }
   ],
   "source": [
    "df = pd.read_csv('../data/02.4_stratified_valid.csv')\n",
    "df.head()"
   ],
   "metadata": {
    "collapsed": false,
    "ExecuteTime": {
     "end_time": "2023-08-21T15:21:48.016134Z",
     "start_time": "2023-08-21T15:21:48.000551Z"
    }
   }
  },
  {
   "cell_type": "code",
   "execution_count": 425,
   "outputs": [
    {
     "data": {
      "text/plain": "(2337, 3)"
     },
     "execution_count": 425,
     "metadata": {},
     "output_type": "execute_result"
    }
   ],
   "source": [
    "df.shape"
   ],
   "metadata": {
    "collapsed": false,
    "ExecuteTime": {
     "end_time": "2023-08-21T15:21:49.522184Z",
     "start_time": "2023-08-21T15:21:49.517759Z"
    }
   }
  },
  {
   "cell_type": "code",
   "execution_count": 426,
   "outputs": [],
   "source": [
    "N = 10\n",
    "\n",
    "# StratifiedKFold умеет работать только с дискретными/целыми значениями.\n",
    "# Делим таргет на N групп по которым и будем потом разбивать на фолды\n",
    "df['target_reg_group'] = pd.qcut(df['target_reg'], N, labels = [f'group_{i}' for i in range(N)])\n",
    "df['num_fold'] = None"
   ],
   "metadata": {
    "collapsed": false,
    "ExecuteTime": {
     "end_time": "2023-08-21T15:21:49.978Z",
     "start_time": "2023-08-21T15:21:49.961705Z"
    }
   }
  },
  {
   "cell_type": "code",
   "execution_count": 419,
   "outputs": [
    {
     "data": {
      "text/plain": "                  target_reg\ntarget_reg_group            \ngroup_0            118894.35\ngroup_1            201553.54\ngroup_2            284390.52\ngroup_3            385428.51\ngroup_4            492580.17\ngroup_5            618728.84\ngroup_6            787860.67\ngroup_7           1014542.15\ngroup_8           1408579.34\ngroup_9           3625533.85",
      "text/html": "<div>\n<style scoped>\n    .dataframe tbody tr th:only-of-type {\n        vertical-align: middle;\n    }\n\n    .dataframe tbody tr th {\n        vertical-align: top;\n    }\n\n    .dataframe thead th {\n        text-align: right;\n    }\n</style>\n<table border=\"1\" class=\"dataframe\">\n  <thead>\n    <tr style=\"text-align: right;\">\n      <th></th>\n      <th>target_reg</th>\n    </tr>\n    <tr>\n      <th>target_reg_group</th>\n      <th></th>\n    </tr>\n  </thead>\n  <tbody>\n    <tr>\n      <th>group_0</th>\n      <td>118894.35</td>\n    </tr>\n    <tr>\n      <th>group_1</th>\n      <td>201553.54</td>\n    </tr>\n    <tr>\n      <th>group_2</th>\n      <td>284390.52</td>\n    </tr>\n    <tr>\n      <th>group_3</th>\n      <td>385428.51</td>\n    </tr>\n    <tr>\n      <th>group_4</th>\n      <td>492580.17</td>\n    </tr>\n    <tr>\n      <th>group_5</th>\n      <td>618728.84</td>\n    </tr>\n    <tr>\n      <th>group_6</th>\n      <td>787860.67</td>\n    </tr>\n    <tr>\n      <th>group_7</th>\n      <td>1014542.15</td>\n    </tr>\n    <tr>\n      <th>group_8</th>\n      <td>1408579.34</td>\n    </tr>\n    <tr>\n      <th>group_9</th>\n      <td>3625533.85</td>\n    </tr>\n  </tbody>\n</table>\n</div>"
     },
     "execution_count": 419,
     "metadata": {},
     "output_type": "execute_result"
    }
   ],
   "source": [
    "df.pivot_table(index=['target_reg_group'], aggfunc={'target_reg':'sum'})"
   ],
   "metadata": {
    "collapsed": false,
    "ExecuteTime": {
     "end_time": "2023-08-21T15:18:06.380117Z",
     "start_time": "2023-08-21T15:18:06.369233Z"
    }
   }
  },
  {
   "cell_type": "code",
   "execution_count": 429,
   "outputs": [
    {
     "data": {
      "text/plain": "<Figure size 1000x500 with 1 Axes>",
      "image/png": "[encoded data removed]"
     },
     "metadata": {},
     "output_type": "display_data"
    }
   ],
   "source": [
    "check('target_reg_group', metric='mean')"
   ],
   "metadata": {
    "collapsed": false,
    "ExecuteTime": {
     "end_time": "2023-08-21T15:22:06.029529Z",
     "start_time": "2023-08-21T15:22:05.899578Z"
    }
   }
  },
  {
   "cell_type": "code",
   "execution_count": 430,
   "outputs": [],
   "source": [
    "skf = StratifiedKFold(n_splits=10, shuffle=True, random_state=Config.seed)\n",
    "for i, (train_index, test_index) in enumerate(skf.split(df, df['target_reg_group'])):\n",
    "    df.loc[test_index, 'num_fold'] = i"
   ],
   "metadata": {
    "collapsed": false,
    "ExecuteTime": {
     "end_time": "2023-08-21T15:22:50.468979Z",
     "start_time": "2023-08-21T15:22:50.454838Z"
    }
   }
  },
  {
   "cell_type": "code",
   "execution_count": 431,
   "outputs": [
    {
     "data": {
      "text/plain": "280.3026722433518"
     },
     "execution_count": 431,
     "metadata": {},
     "output_type": "execute_result"
    }
   ],
   "source": [
    "df.groupby('num_fold', as_index=False)['target_reg'].agg('mean')['target_reg'].std()"
   ],
   "metadata": {
    "collapsed": false,
    "ExecuteTime": {
     "end_time": "2023-08-21T15:22:51.846166Z",
     "start_time": "2023-08-21T15:22:51.834602Z"
    }
   }
  },
  {
   "cell_type": "code",
   "execution_count": 432,
   "outputs": [
    {
     "data": {
      "text/plain": "          target_reg\nnum_fold            \n0          942347.52\n1          873639.02\n2          911531.62\n3          830992.08\n4          831606.86\n5          801896.75\n6          903912.81\n7         1024386.07\n8          895644.03\n9          922135.18",
      "text/html": "<div>\n<style scoped>\n    .dataframe tbody tr th:only-of-type {\n        vertical-align: middle;\n    }\n\n    .dataframe tbody tr th {\n        vertical-align: top;\n    }\n\n    .dataframe thead th {\n        text-align: right;\n    }\n</style>\n<table border=\"1\" class=\"dataframe\">\n  <thead>\n    <tr style=\"text-align: right;\">\n      <th></th>\n      <th>target_reg</th>\n    </tr>\n    <tr>\n      <th>num_fold</th>\n      <th></th>\n    </tr>\n  </thead>\n  <tbody>\n    <tr>\n      <th>0</th>\n      <td>942347.52</td>\n    </tr>\n    <tr>\n      <th>1</th>\n      <td>873639.02</td>\n    </tr>\n    <tr>\n      <th>2</th>\n      <td>911531.62</td>\n    </tr>\n    <tr>\n      <th>3</th>\n      <td>830992.08</td>\n    </tr>\n    <tr>\n      <th>4</th>\n      <td>831606.86</td>\n    </tr>\n    <tr>\n      <th>5</th>\n      <td>801896.75</td>\n    </tr>\n    <tr>\n      <th>6</th>\n      <td>903912.81</td>\n    </tr>\n    <tr>\n      <th>7</th>\n      <td>1024386.07</td>\n    </tr>\n    <tr>\n      <th>8</th>\n      <td>895644.03</td>\n    </tr>\n    <tr>\n      <th>9</th>\n      <td>922135.18</td>\n    </tr>\n  </tbody>\n</table>\n</div>"
     },
     "execution_count": 432,
     "metadata": {},
     "output_type": "execute_result"
    }
   ],
   "source": [
    "df.pivot_table(index=['num_fold'], aggfunc={'target_reg':'sum'})"
   ],
   "metadata": {
    "collapsed": false,
    "ExecuteTime": {
     "end_time": "2023-08-21T15:22:53.837907Z",
     "start_time": "2023-08-21T15:22:53.814543Z"
    }
   }
  },
  {
   "cell_type": "code",
   "execution_count": 435,
   "outputs": [
    {
     "data": {
      "text/plain": "<Figure size 1000x500 with 1 Axes>",
      "image/png": "[encoded data removed]"
     },
     "metadata": {},
     "output_type": "display_data"
    }
   ],
   "source": [
    "check('num_fold', metric='mean')"
   ],
   "metadata": {
    "collapsed": false,
    "ExecuteTime": {
     "end_time": "2023-08-21T15:23:07.648333Z",
     "start_time": "2023-08-21T15:23:07.506122Z"
    }
   }
  },
  {
   "cell_type": "code",
   "execution_count": 420,
   "outputs": [
    {
     "data": {
      "text/plain": "          car_id  target_reg num_fold target_reg_group\n0     y13744087j     9492.96     None          group_9\n1     O41613818T     2656.23     None          group_5\n2     d-2109686j     1526.11     None          group_3\n3     u29695600e     1338.00     None          group_2\n4     N-8915870N      825.72     None          group_1\n...          ...         ...      ...              ...\n2332  j21246192N      547.30     None          group_0\n2333  h-1554287F    26414.19     None          group_9\n2334  A15262612g     2677.95     None          group_5\n2335  W-2514493U     2213.63     None          group_4\n2336  z-1337463D     2943.33     None          group_5\n\n[2337 rows x 4 columns]",
      "text/html": "<div>\n<style scoped>\n    .dataframe tbody tr th:only-of-type {\n        vertical-align: middle;\n    }\n\n    .dataframe tbody tr th {\n        vertical-align: top;\n    }\n\n    .dataframe thead th {\n        text-align: right;\n    }\n</style>\n<table border=\"1\" class=\"dataframe\">\n  <thead>\n    <tr style=\"text-align: right;\">\n      <th></th>\n      <th>car_id</th>\n      <th>target_reg</th>\n      <th>num_fold</th>\n      <th>target_reg_group</th>\n    </tr>\n  </thead>\n  <tbody>\n    <tr>\n      <th>0</th>\n      <td>y13744087j</td>\n      <td>9492.96</td>\n      <td>None</td>\n      <td>group_9</td>\n    </tr>\n    <tr>\n      <th>1</th>\n      <td>O41613818T</td>\n      <td>2656.23</td>\n      <td>None</td>\n      <td>group_5</td>\n    </tr>\n    <tr>\n      <th>2</th>\n      <td>d-2109686j</td>\n      <td>1526.11</td>\n      <td>None</td>\n      <td>group_3</td>\n    </tr>\n    <tr>\n      <th>3</th>\n      <td>u29695600e</td>\n      <td>1338.00</td>\n      <td>None</td>\n      <td>group_2</td>\n    </tr>\n    <tr>\n      <th>4</th>\n      <td>N-8915870N</td>\n      <td>825.72</td>\n      <td>None</td>\n      <td>group_1</td>\n    </tr>\n    <tr>\n      <th>...</th>\n      <td>...</td>\n      <td>...</td>\n      <td>...</td>\n      <td>...</td>\n    </tr>\n    <tr>\n      <th>2332</th>\n      <td>j21246192N</td>\n      <td>547.30</td>\n      <td>None</td>\n      <td>group_0</td>\n    </tr>\n    <tr>\n      <th>2333</th>\n      <td>h-1554287F</td>\n      <td>26414.19</td>\n      <td>None</td>\n      <td>group_9</td>\n    </tr>\n    <tr>\n      <th>2334</th>\n      <td>A15262612g</td>\n      <td>2677.95</td>\n      <td>None</td>\n      <td>group_5</td>\n    </tr>\n    <tr>\n      <th>2335</th>\n      <td>W-2514493U</td>\n      <td>2213.63</td>\n      <td>None</td>\n      <td>group_4</td>\n    </tr>\n    <tr>\n      <th>2336</th>\n      <td>z-1337463D</td>\n      <td>2943.33</td>\n      <td>None</td>\n      <td>group_5</td>\n    </tr>\n  </tbody>\n</table>\n<p>2337 rows × 4 columns</p>\n</div>"
     },
     "execution_count": 420,
     "metadata": {},
     "output_type": "execute_result"
    }
   ],
   "source": [
    "df"
   ],
   "metadata": {
    "collapsed": false,
    "ExecuteTime": {
     "end_time": "2023-08-21T15:21:12.955497Z",
     "start_time": "2023-08-21T15:21:12.953764Z"
    }
   }
  },
  {
   "cell_type": "code",
   "execution_count": 395,
   "outputs": [
    {
     "data": {
      "text/plain": "(2337, 4)"
     },
     "execution_count": 395,
     "metadata": {},
     "output_type": "execute_result"
    }
   ],
   "source": [
    "df.shape"
   ],
   "metadata": {
    "collapsed": false,
    "ExecuteTime": {
     "end_time": "2023-08-21T15:17:01.153769Z",
     "start_time": "2023-08-21T15:17:01.151431Z"
    }
   }
  },
  {
   "cell_type": "code",
   "execution_count": 396,
   "outputs": [],
   "source": [
    "df.drop('target_reg_group', axis=1, inplace=True)"
   ],
   "metadata": {
    "collapsed": false,
    "ExecuteTime": {
     "end_time": "2023-08-21T15:17:01.174191Z",
     "start_time": "2023-08-21T15:17:01.154432Z"
    }
   }
  },
  {
   "cell_type": "code",
   "execution_count": 397,
   "outputs": [],
   "source": [
    "df.to_csv('../submissions/02.4_stratified_valid.csv', index=False)"
   ],
   "metadata": {
    "collapsed": false,
    "ExecuteTime": {
     "end_time": "2023-08-21T15:17:01.174398Z",
     "start_time": "2023-08-21T15:17:01.156377Z"
    }
   }
  },
  {
   "cell_type": "markdown",
   "source": [
    "# 2.4.9"
   ],
   "metadata": {
    "collapsed": false
   }
  },
  {
   "cell_type": "code",
   "execution_count": 398,
   "outputs": [],
   "source": [
    "# Для тренировочного датасета сгенерируйте 5 фолдов (от 0 и до 4) так, чтобы в каждом фолде число всех классов было примерно одинаковым (сбалансированным)\n",
    "# Номер фолда запишите в новый столбец kfold. Допускается средний разброс значений таргета между фолдами хотя бы = 9.5 у.е\n",
    "from iterstrat.ml_stratifiers import MultilabelStratifiedKFold\n"
   ],
   "metadata": {
    "collapsed": false,
    "ExecuteTime": {
     "end_time": "2023-08-21T15:17:01.174440Z",
     "start_time": "2023-08-21T15:17:01.161055Z"
    }
   }
  },
  {
   "cell_type": "code",
   "execution_count": 399,
   "outputs": [],
   "source": [
    "def check(df):\n",
    "    tmp = df.groupby(['kfold'], as_index=False).sum()\n",
    "    tmp_melt = tmp.melt(id_vars = 'kfold', value_vars = targets, value_name = 'count', var_name = 'class')\n",
    "    print(tmp_melt.groupby(['class'], as_index=False).std()['count'].mean())"
   ],
   "metadata": {
    "collapsed": false,
    "ExecuteTime": {
     "end_time": "2023-08-21T15:17:01.174511Z",
     "start_time": "2023-08-21T15:17:01.163294Z"
    }
   }
  },
  {
   "cell_type": "code",
   "execution_count": 400,
   "outputs": [
    {
     "data": {
      "text/plain": "        ID  Computer Science  Physics  Mathematics  Statistics  \\\n1425  4069                 1        0            0           1   \n8888  5212                 0        0            0           1   \n263   6795                 1        0            1           0   \n\n      Quantitative Biology  Quantitative Finance  Chemistry  Astrology  \\\n1425                     0                     0          0          0   \n8888                     0                     0          0          0   \n263                      0                     0          0          0   \n\n      Spaceology  Life Science  Earth Science  Data Science  \n1425           0             0              0             1  \n8888           0             0              0             1  \n263            0             1              0             0  ",
      "text/html": "<div>\n<style scoped>\n    .dataframe tbody tr th:only-of-type {\n        vertical-align: middle;\n    }\n\n    .dataframe tbody tr th {\n        vertical-align: top;\n    }\n\n    .dataframe thead th {\n        text-align: right;\n    }\n</style>\n<table border=\"1\" class=\"dataframe\">\n  <thead>\n    <tr style=\"text-align: right;\">\n      <th></th>\n      <th>ID</th>\n      <th>Computer Science</th>\n      <th>Physics</th>\n      <th>Mathematics</th>\n      <th>Statistics</th>\n      <th>Quantitative Biology</th>\n      <th>Quantitative Finance</th>\n      <th>Chemistry</th>\n      <th>Astrology</th>\n      <th>Spaceology</th>\n      <th>Life Science</th>\n      <th>Earth Science</th>\n      <th>Data Science</th>\n    </tr>\n  </thead>\n  <tbody>\n    <tr>\n      <th>1425</th>\n      <td>4069</td>\n      <td>1</td>\n      <td>0</td>\n      <td>0</td>\n      <td>1</td>\n      <td>0</td>\n      <td>0</td>\n      <td>0</td>\n      <td>0</td>\n      <td>0</td>\n      <td>0</td>\n      <td>0</td>\n      <td>1</td>\n    </tr>\n    <tr>\n      <th>8888</th>\n      <td>5212</td>\n      <td>0</td>\n      <td>0</td>\n      <td>0</td>\n      <td>1</td>\n      <td>0</td>\n      <td>0</td>\n      <td>0</td>\n      <td>0</td>\n      <td>0</td>\n      <td>0</td>\n      <td>0</td>\n      <td>1</td>\n    </tr>\n    <tr>\n      <th>263</th>\n      <td>6795</td>\n      <td>1</td>\n      <td>0</td>\n      <td>1</td>\n      <td>0</td>\n      <td>0</td>\n      <td>0</td>\n      <td>0</td>\n      <td>0</td>\n      <td>0</td>\n      <td>1</td>\n      <td>0</td>\n      <td>0</td>\n    </tr>\n  </tbody>\n</table>\n</div>"
     },
     "execution_count": 400,
     "metadata": {},
     "output_type": "execute_result"
    }
   ],
   "source": [
    "df = pd.read_csv('../data/02.4_multi_label.csv')\n",
    "df.sample(3)"
   ],
   "metadata": {
    "collapsed": false,
    "ExecuteTime": {
     "end_time": "2023-08-21T15:17:01.203046Z",
     "start_time": "2023-08-21T15:17:01.167530Z"
    }
   }
  },
  {
   "cell_type": "code",
   "execution_count": 401,
   "outputs": [],
   "source": [
    "targets = ['Computer Science', 'Physics', 'Mathematics', 'Statistics',\n",
    "           'Quantitative Biology', 'Quantitative Finance', 'Chemistry',\n",
    "           'Astrology', 'Spaceology', 'Life Science', 'Earth Science', 'Data Science']"
   ],
   "metadata": {
    "collapsed": false,
    "ExecuteTime": {
     "end_time": "2023-08-21T15:17:01.203380Z",
     "start_time": "2023-08-21T15:17:01.174984Z"
    }
   }
  },
  {
   "cell_type": "code",
   "execution_count": 402,
   "outputs": [],
   "source": [
    "# def create_folds(data, num_splits=3, targets = [0, 1, 2, 4]):\n",
    "#     if num_splits > 1:\n",
    "#         data['kfold'] = -1\n",
    "#         X = data\n",
    "#         y = data[targets]\n",
    "#         mskf = MultilabelStratifiedKFold(n_splits=num_splits, shuffle=True, random_state=42)\n",
    "#\n",
    "#         for fold, (trn_, val_) in enumerate(mskf.split(X, y)):\n",
    "#             data.loc[val_,'kfold'] = fold\n",
    "#     else:\n",
    "#         data.loc[:,'kfold'] = 0\n",
    "#\n",
    "#     return data\n",
    "\n",
    "# create_folds(df)"
   ],
   "metadata": {
    "collapsed": false,
    "ExecuteTime": {
     "end_time": "2023-08-21T15:17:01.203422Z",
     "start_time": "2023-08-21T15:17:01.177458Z"
    }
   }
  },
  {
   "cell_type": "code",
   "execution_count": 403,
   "outputs": [],
   "source": [
    "# Вариант №1\n",
    "\n",
    "# Выбираем вск категориальные фичи\n",
    "df_arr = np.array(df[df.columns])[:, 1:]\n",
    "# Переводим в строку все значения фичей и создаем группы\n",
    "strs = [''.join(map(str, df_arr[i])) for i in range(len(df_arr))]\n",
    "df['group'] = strs\n",
    "\n",
    "skf = StratifiedKFold(n_splits=5, shuffle=True, random_state=Config.seed)\n",
    "for i, (train_index, test_index) in enumerate(skf.split(df, df['group'])):\n",
    "\n",
    "    df.loc[test_index, 'kfold'] = i\n",
    "\n",
    "# Готовим данные к экспорту на платформу\n",
    "df = df.drop(columns=['group'])\n",
    "df['kfold'] = df['kfold'].apply(int)"
   ],
   "metadata": {
    "collapsed": false,
    "ExecuteTime": {
     "end_time": "2023-08-21T15:17:01.214381Z",
     "start_time": "2023-08-21T15:17:01.180399Z"
    }
   }
  },
  {
   "cell_type": "code",
   "execution_count": 404,
   "outputs": [
    {
     "name": "stdout",
     "output_type": "stream",
     "text": [
      "2.5235344051496296\n"
     ]
    }
   ],
   "source": [
    "check(df)"
   ],
   "metadata": {
    "collapsed": false,
    "ExecuteTime": {
     "end_time": "2023-08-21T15:17:01.217137Z",
     "start_time": "2023-08-21T15:17:01.210251Z"
    }
   }
  },
  {
   "cell_type": "code",
   "execution_count": 405,
   "outputs": [],
   "source": [
    "# Вариант №2\n",
    "\n",
    "# Выбираем вск категориальные фичи\n",
    "targets = df.columns[1:].to_list()\n",
    "\n",
    "# Заготовка под будущие фолды\n",
    "df['kfold'] = -1\n",
    "\n",
    "mskf = MultilabelStratifiedKFold(n_splits=5, shuffle=True, random_state=Config.seed)\n",
    "for num, (train_index, test_index) in enumerate(mskf.split(df, df[targets])):\n",
    "    df.loc[test_index, 'kfold'] = num"
   ],
   "metadata": {
    "collapsed": false,
    "ExecuteTime": {
     "end_time": "2023-08-21T15:17:01.340657Z",
     "start_time": "2023-08-21T15:17:01.217300Z"
    }
   }
  },
  {
   "cell_type": "code",
   "execution_count": 406,
   "outputs": [],
   "source": [
    "df.to_csv('../submissions/02.4_multi_label_2.csv', index=False)"
   ],
   "metadata": {
    "collapsed": false,
    "ExecuteTime": {
     "end_time": "2023-08-21T15:17:01.340894Z",
     "start_time": "2023-08-21T15:17:01.323122Z"
    }
   }
  },
  {
   "cell_type": "markdown",
   "source": [
    "# Questions"
   ],
   "metadata": {
    "collapsed": false
   }
  },
  {
   "cell_type": "code",
   "execution_count": 407,
   "outputs": [
    {
     "data": {
      "text/plain": "       car_id  target_reg  num_fold\n0  y13744087j     9492.96       NaN\n1  O41613818T     2656.23       NaN\n2  d-2109686j     1526.11       NaN\n3  u29695600e     1338.00       NaN\n4  N-8915870N      825.72       NaN",
      "text/html": "<div>\n<style scoped>\n    .dataframe tbody tr th:only-of-type {\n        vertical-align: middle;\n    }\n\n    .dataframe tbody tr th {\n        vertical-align: top;\n    }\n\n    .dataframe thead th {\n        text-align: right;\n    }\n</style>\n<table border=\"1\" class=\"dataframe\">\n  <thead>\n    <tr style=\"text-align: right;\">\n      <th></th>\n      <th>car_id</th>\n      <th>target_reg</th>\n      <th>num_fold</th>\n    </tr>\n  </thead>\n  <tbody>\n    <tr>\n      <th>0</th>\n      <td>y13744087j</td>\n      <td>9492.96</td>\n      <td>NaN</td>\n    </tr>\n    <tr>\n      <th>1</th>\n      <td>O41613818T</td>\n      <td>2656.23</td>\n      <td>NaN</td>\n    </tr>\n    <tr>\n      <th>2</th>\n      <td>d-2109686j</td>\n      <td>1526.11</td>\n      <td>NaN</td>\n    </tr>\n    <tr>\n      <th>3</th>\n      <td>u29695600e</td>\n      <td>1338.00</td>\n      <td>NaN</td>\n    </tr>\n    <tr>\n      <th>4</th>\n      <td>N-8915870N</td>\n      <td>825.72</td>\n      <td>NaN</td>\n    </tr>\n  </tbody>\n</table>\n</div>"
     },
     "execution_count": 407,
     "metadata": {},
     "output_type": "execute_result"
    }
   ],
   "source": [
    "df = pd.read_csv('../data/02.4_stratified_valid.csv')\n",
    "df.head()"
   ],
   "metadata": {
    "collapsed": false,
    "ExecuteTime": {
     "end_time": "2023-08-21T15:17:01.342750Z",
     "start_time": "2023-08-21T15:17:01.340809Z"
    }
   }
  },
  {
   "cell_type": "code",
   "execution_count": 408,
   "outputs": [],
   "source": [
    "N = 10\n",
    "\n",
    "# StratifiedKFold умеет работать только с дискретными/целыми значениями.\n",
    "# Делим таргет на N групп по которым и будем потом разбивать на фолды\n",
    "df['group'] = pd.qcut(df['target_reg'], N, labels = [f'group_{i}' for i in range(N)])\n",
    "# df['num_fold'] = None"
   ],
   "metadata": {
    "collapsed": false,
    "ExecuteTime": {
     "end_time": "2023-08-21T15:17:01.344610Z",
     "start_time": "2023-08-21T15:17:01.342519Z"
    }
   }
  },
  {
   "cell_type": "code",
   "execution_count": 409,
   "outputs": [
    {
     "data": {
      "text/plain": "          car_id  target_reg  num_fold    group\n0     y13744087j     9492.96       NaN  group_9\n1     O41613818T     2656.23       NaN  group_5\n2     d-2109686j     1526.11       NaN  group_3\n3     u29695600e     1338.00       NaN  group_2\n4     N-8915870N      825.72       NaN  group_1\n...          ...         ...       ...      ...\n2332  j21246192N      547.30       NaN  group_0\n2333  h-1554287F    26414.19       NaN  group_9\n2334  A15262612g     2677.95       NaN  group_5\n2335  W-2514493U     2213.63       NaN  group_4\n2336  z-1337463D     2943.33       NaN  group_5\n\n[2337 rows x 4 columns]",
      "text/html": "<div>\n<style scoped>\n    .dataframe tbody tr th:only-of-type {\n        vertical-align: middle;\n    }\n\n    .dataframe tbody tr th {\n        vertical-align: top;\n    }\n\n    .dataframe thead th {\n        text-align: right;\n    }\n</style>\n<table border=\"1\" class=\"dataframe\">\n  <thead>\n    <tr style=\"text-align: right;\">\n      <th></th>\n      <th>car_id</th>\n      <th>target_reg</th>\n      <th>num_fold</th>\n      <th>group</th>\n    </tr>\n  </thead>\n  <tbody>\n    <tr>\n      <th>0</th>\n      <td>y13744087j</td>\n      <td>9492.96</td>\n      <td>NaN</td>\n      <td>group_9</td>\n    </tr>\n    <tr>\n      <th>1</th>\n      <td>O41613818T</td>\n      <td>2656.23</td>\n      <td>NaN</td>\n      <td>group_5</td>\n    </tr>\n    <tr>\n      <th>2</th>\n      <td>d-2109686j</td>\n      <td>1526.11</td>\n      <td>NaN</td>\n      <td>group_3</td>\n    </tr>\n    <tr>\n      <th>3</th>\n      <td>u29695600e</td>\n      <td>1338.00</td>\n      <td>NaN</td>\n      <td>group_2</td>\n    </tr>\n    <tr>\n      <th>4</th>\n      <td>N-8915870N</td>\n      <td>825.72</td>\n      <td>NaN</td>\n      <td>group_1</td>\n    </tr>\n    <tr>\n      <th>...</th>\n      <td>...</td>\n      <td>...</td>\n      <td>...</td>\n      <td>...</td>\n    </tr>\n    <tr>\n      <th>2332</th>\n      <td>j21246192N</td>\n      <td>547.30</td>\n      <td>NaN</td>\n      <td>group_0</td>\n    </tr>\n    <tr>\n      <th>2333</th>\n      <td>h-1554287F</td>\n      <td>26414.19</td>\n      <td>NaN</td>\n      <td>group_9</td>\n    </tr>\n    <tr>\n      <th>2334</th>\n      <td>A15262612g</td>\n      <td>2677.95</td>\n      <td>NaN</td>\n      <td>group_5</td>\n    </tr>\n    <tr>\n      <th>2335</th>\n      <td>W-2514493U</td>\n      <td>2213.63</td>\n      <td>NaN</td>\n      <td>group_4</td>\n    </tr>\n    <tr>\n      <th>2336</th>\n      <td>z-1337463D</td>\n      <td>2943.33</td>\n      <td>NaN</td>\n      <td>group_5</td>\n    </tr>\n  </tbody>\n</table>\n<p>2337 rows × 4 columns</p>\n</div>"
     },
     "execution_count": 409,
     "metadata": {},
     "output_type": "execute_result"
    }
   ],
   "source": [
    "df"
   ],
   "metadata": {
    "collapsed": false,
    "ExecuteTime": {
     "end_time": "2023-08-21T15:17:01.350068Z",
     "start_time": "2023-08-21T15:17:01.345958Z"
    }
   }
  },
  {
   "cell_type": "code",
   "execution_count": 410,
   "outputs": [
    {
     "data": {
      "text/plain": "<Figure size 2000x500 with 1 Axes>",
      "image/png": "[encoded data removed]"
     },
     "metadata": {},
     "output_type": "display_data"
    }
   ],
   "source": [
    "g = sns.displot(\n",
    "    data=df,\n",
    "\n",
    "    x=\"group\",\n",
    "    # y=\"user_time_accident\",\n",
    "\n",
    "    # hue=\"target_class\",\n",
    "    # legend=True,\n",
    "    aspect=4,\n",
    "    kind=\"hist\",  # kde\n",
    "    alpha=0.5,\n",
    ");"
   ],
   "metadata": {
    "collapsed": false,
    "ExecuteTime": {
     "end_time": "2023-08-21T15:17:01.513929Z",
     "start_time": "2023-08-21T15:17:01.361320Z"
    }
   }
  },
  {
   "cell_type": "code",
   "execution_count": 410,
   "outputs": [],
   "source": [],
   "metadata": {
    "collapsed": false,
    "ExecuteTime": {
     "end_time": "2023-08-21T15:17:01.514039Z",
     "start_time": "2023-08-21T15:17:01.511672Z"
    }
   }
  }
 ],
 "metadata": {
  "kernelspec": {
   "display_name": "Python 3",
   "language": "python",
   "name": "python3"
  },
  "language_info": {
   "codemirror_mode": {
    "name": "ipython",
    "version": 2
   },
   "file_extension": ".py",
   "mimetype": "text/x-python",
   "name": "python",
   "nbconvert_exporter": "python",
   "pygments_lexer": "ipython2",
   "version": "2.7.6"
  }
 },
 "nbformat": 4,
 "nbformat_minor": 0
}
