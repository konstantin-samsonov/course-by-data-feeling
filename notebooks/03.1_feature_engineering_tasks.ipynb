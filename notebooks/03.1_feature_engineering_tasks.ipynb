{
 "cells": [
  {
   "cell_type": "code",
   "execution_count": 120,
   "metadata": {
    "collapsed": true,
    "ExecuteTime": {
     "end_time": "2023-08-24T14:38:56.940358Z",
     "start_time": "2023-08-24T14:38:56.869301Z"
    }
   },
   "outputs": [],
   "source": [
    "import numpy as np\n",
    "import pandas as pd\n",
    "import ssl\n",
    "\n",
    "ssl._create_default_https_context = ssl._create_unverified_context"
   ]
  },
  {
   "cell_type": "code",
   "execution_count": 121,
   "outputs": [],
   "source": [
    "df = pd.read_csv('https://drive.google.com/uc?id=1eqFIZCJTkXY-PsTeS-uz_DousIH3XQu-')\n",
    "ans = pd.read_csv('https://stepik.org/media/attachments/lesson/779916/3_1_2.csv')"
   ],
   "metadata": {
    "collapsed": false,
    "ExecuteTime": {
     "end_time": "2023-08-24T14:39:12.045948Z",
     "start_time": "2023-08-24T14:38:56.871736Z"
    }
   }
  },
  {
   "cell_type": "code",
   "execution_count": 122,
   "outputs": [
    {
     "data": {
      "text/plain": "      user_id      car_id ride_id   ride_date  rating  ride_duration  \\\n0  o52317055h  A-1049127W     b1v  2020-01-01    4.95             21   \n1  H41298704y  A-1049127W     T1U  2020-01-01    6.91              8   \n2  v88009926E  A-1049127W     g1p  2020-01-02    6.01             20   \n3  t14229455i  A-1049127W     S1c  2020-01-02    0.26             19   \n4  W17067612E  A-1049127W     X1b  2020-01-03    1.21             56   \n\n   ride_cost  speed_avg   speed_max  stop_times     distance  refueling  \\\n0        268         36  113.548538           0   514.246920          0   \n1         59         36   93.000000           1   197.520662          0   \n2        315         61   81.959675           0  1276.328206          0   \n3        205         32  128.000000           0   535.680831          0   \n4        554         38   90.000000           1  1729.143367          0   \n\n   user_ride_quality  deviation_normal  \n0           1.115260             2.909  \n1           1.650465             4.133  \n2           2.599112             2.461  \n3           3.216255             0.909  \n4           2.716550            -1.822  ",
      "text/html": "<div>\n<style scoped>\n    .dataframe tbody tr th:only-of-type {\n        vertical-align: middle;\n    }\n\n    .dataframe tbody tr th {\n        vertical-align: top;\n    }\n\n    .dataframe thead th {\n        text-align: right;\n    }\n</style>\n<table border=\"1\" class=\"dataframe\">\n  <thead>\n    <tr style=\"text-align: right;\">\n      <th></th>\n      <th>user_id</th>\n      <th>car_id</th>\n      <th>ride_id</th>\n      <th>ride_date</th>\n      <th>rating</th>\n      <th>ride_duration</th>\n      <th>ride_cost</th>\n      <th>speed_avg</th>\n      <th>speed_max</th>\n      <th>stop_times</th>\n      <th>distance</th>\n      <th>refueling</th>\n      <th>user_ride_quality</th>\n      <th>deviation_normal</th>\n    </tr>\n  </thead>\n  <tbody>\n    <tr>\n      <th>0</th>\n      <td>o52317055h</td>\n      <td>A-1049127W</td>\n      <td>b1v</td>\n      <td>2020-01-01</td>\n      <td>4.95</td>\n      <td>21</td>\n      <td>268</td>\n      <td>36</td>\n      <td>113.548538</td>\n      <td>0</td>\n      <td>514.246920</td>\n      <td>0</td>\n      <td>1.115260</td>\n      <td>2.909</td>\n    </tr>\n    <tr>\n      <th>1</th>\n      <td>H41298704y</td>\n      <td>A-1049127W</td>\n      <td>T1U</td>\n      <td>2020-01-01</td>\n      <td>6.91</td>\n      <td>8</td>\n      <td>59</td>\n      <td>36</td>\n      <td>93.000000</td>\n      <td>1</td>\n      <td>197.520662</td>\n      <td>0</td>\n      <td>1.650465</td>\n      <td>4.133</td>\n    </tr>\n    <tr>\n      <th>2</th>\n      <td>v88009926E</td>\n      <td>A-1049127W</td>\n      <td>g1p</td>\n      <td>2020-01-02</td>\n      <td>6.01</td>\n      <td>20</td>\n      <td>315</td>\n      <td>61</td>\n      <td>81.959675</td>\n      <td>0</td>\n      <td>1276.328206</td>\n      <td>0</td>\n      <td>2.599112</td>\n      <td>2.461</td>\n    </tr>\n    <tr>\n      <th>3</th>\n      <td>t14229455i</td>\n      <td>A-1049127W</td>\n      <td>S1c</td>\n      <td>2020-01-02</td>\n      <td>0.26</td>\n      <td>19</td>\n      <td>205</td>\n      <td>32</td>\n      <td>128.000000</td>\n      <td>0</td>\n      <td>535.680831</td>\n      <td>0</td>\n      <td>3.216255</td>\n      <td>0.909</td>\n    </tr>\n    <tr>\n      <th>4</th>\n      <td>W17067612E</td>\n      <td>A-1049127W</td>\n      <td>X1b</td>\n      <td>2020-01-03</td>\n      <td>1.21</td>\n      <td>56</td>\n      <td>554</td>\n      <td>38</td>\n      <td>90.000000</td>\n      <td>1</td>\n      <td>1729.143367</td>\n      <td>0</td>\n      <td>2.716550</td>\n      <td>-1.822</td>\n    </tr>\n  </tbody>\n</table>\n</div>"
     },
     "execution_count": 122,
     "metadata": {},
     "output_type": "execute_result"
    }
   ],
   "source": [
    "df.head()"
   ],
   "metadata": {
    "collapsed": false,
    "ExecuteTime": {
     "end_time": "2023-08-24T14:39:12.053118Z",
     "start_time": "2023-08-24T14:39:12.050291Z"
    }
   }
  },
  {
   "cell_type": "markdown",
   "source": [
    "# 3.1.2"
   ],
   "metadata": {
    "collapsed": false
   }
  },
  {
   "cell_type": "code",
   "execution_count": 123,
   "outputs": [],
   "source": [
    "# Создайте в df новый столбец final_ride_cost, который будет зависеть от рейтинга (rating) и максимальной скорости (speed_max) поездки.\n",
    "# Значения в этом столбце будут отличаться в зависимости от двух условий:\n",
    "#     - Если рейтинг выше 6 и максимальная скорость поездки меньше 120 км/ч, то стоимость поездки (ride_cost) уменьшите на 5%.\n",
    "#     - В противном случае: стоимость поездки (ride_cost) увеличьте на 5%.\n",
    "# В новом столбце final_ride_cost отбросьте дробную часть значений, оставьте только целую часть.\n",
    "# Так как стоимость измеряется в рублях, дробная часть не имеет значения."
   ],
   "metadata": {
    "collapsed": false,
    "ExecuteTime": {
     "end_time": "2023-08-24T14:39:12.055315Z",
     "start_time": "2023-08-24T14:39:12.053374Z"
    }
   }
  },
  {
   "cell_type": "code",
   "execution_count": 124,
   "outputs": [],
   "source": [
    "def final_ride_cost(row):\n",
    "    if row['rating'] > 6 and row['speed_max'] < 120:\n",
    "        return int(row['ride_cost'] * 0.95)\n",
    "    else:\n",
    "        return int(row['ride_cost'] * 1.05)"
   ],
   "metadata": {
    "collapsed": false,
    "ExecuteTime": {
     "end_time": "2023-08-24T14:39:12.057344Z",
     "start_time": "2023-08-24T14:39:12.056203Z"
    }
   }
  },
  {
   "cell_type": "code",
   "execution_count": 125,
   "outputs": [],
   "source": [
    "df['final_ride_cost'] = df.apply(final_ride_cost, axis=1)"
   ],
   "metadata": {
    "collapsed": false,
    "ExecuteTime": {
     "end_time": "2023-08-24T14:39:14.316232Z",
     "start_time": "2023-08-24T14:39:12.058544Z"
    }
   }
  },
  {
   "cell_type": "code",
   "execution_count": 126,
   "outputs": [
    {
     "data": {
      "text/plain": "           user_id      car_id ride_id   ride_date  rating  ride_duration  \\\n0       o52317055h  A-1049127W     b1v  2020-01-01    4.95             21   \n1       H41298704y  A-1049127W     T1U  2020-01-01    6.91              8   \n2       v88009926E  A-1049127W     g1p  2020-01-02    6.01             20   \n3       t14229455i  A-1049127W     S1c  2020-01-02    0.26             19   \n4       W17067612E  A-1049127W     X1b  2020-01-03    1.21             56   \n...            ...         ...     ...         ...     ...            ...   \n739495  I15732675M  z91796444U     m1z  2020-03-30    7.42            164   \n739496  r51579957X  z91796444U     t1P  2020-03-30    4.19             26   \n739497  l15212727I  z91796444U     z1A  2020-03-31    3.40             23   \n739498  Z78949958q  z91796444U     w1R  2020-04-01    9.02              5   \n739499  T14594979g  z91796444U     k1R  2020-04-01    5.96             29   \n\n        ride_cost  speed_avg   speed_max  stop_times     distance  refueling  \\\n0             268         36  113.548538           0   514.246920          0   \n1              59         36   93.000000           1   197.520662          0   \n2             315         61   81.959675           0  1276.328206          0   \n3             205         32  128.000000           0   535.680831          0   \n4             554         38   90.000000           1  1729.143367          0   \n...           ...        ...         ...         ...          ...        ...   \n739495       2290         49   54.586302           0  2274.772387          0   \n739496        412         46   73.000000           0   515.580231          0   \n739497        178         37   71.000000           1   444.846677          0   \n739498         75         48   87.000000           1   179.464361          0   \n739499        344         45   55.000000           2  1140.454305          0   \n\n        user_ride_quality  deviation_normal  final_ride_cost  \n0                1.115260             2.909              281  \n1                1.650465             4.133               56  \n2                2.599112             2.461              299  \n3                3.216255             0.909              215  \n4                2.716550            -1.822              581  \n...                   ...               ...              ...  \n739495           6.137593           -39.752             2175  \n739496           6.703367           -38.480              432  \n739497           6.255344           -45.080              186  \n739498           7.759949           -60.193               71  \n739499                NaN           -50.835              361  \n\n[739500 rows x 15 columns]",
      "text/html": "<div>\n<style scoped>\n    .dataframe tbody tr th:only-of-type {\n        vertical-align: middle;\n    }\n\n    .dataframe tbody tr th {\n        vertical-align: top;\n    }\n\n    .dataframe thead th {\n        text-align: right;\n    }\n</style>\n<table border=\"1\" class=\"dataframe\">\n  <thead>\n    <tr style=\"text-align: right;\">\n      <th></th>\n      <th>user_id</th>\n      <th>car_id</th>\n      <th>ride_id</th>\n      <th>ride_date</th>\n      <th>rating</th>\n      <th>ride_duration</th>\n      <th>ride_cost</th>\n      <th>speed_avg</th>\n      <th>speed_max</th>\n      <th>stop_times</th>\n      <th>distance</th>\n      <th>refueling</th>\n      <th>user_ride_quality</th>\n      <th>deviation_normal</th>\n      <th>final_ride_cost</th>\n    </tr>\n  </thead>\n  <tbody>\n    <tr>\n      <th>0</th>\n      <td>o52317055h</td>\n      <td>A-1049127W</td>\n      <td>b1v</td>\n      <td>2020-01-01</td>\n      <td>4.95</td>\n      <td>21</td>\n      <td>268</td>\n      <td>36</td>\n      <td>113.548538</td>\n      <td>0</td>\n      <td>514.246920</td>\n      <td>0</td>\n      <td>1.115260</td>\n      <td>2.909</td>\n      <td>281</td>\n    </tr>\n    <tr>\n      <th>1</th>\n      <td>H41298704y</td>\n      <td>A-1049127W</td>\n      <td>T1U</td>\n      <td>2020-01-01</td>\n      <td>6.91</td>\n      <td>8</td>\n      <td>59</td>\n      <td>36</td>\n      <td>93.000000</td>\n      <td>1</td>\n      <td>197.520662</td>\n      <td>0</td>\n      <td>1.650465</td>\n      <td>4.133</td>\n      <td>56</td>\n    </tr>\n    <tr>\n      <th>2</th>\n      <td>v88009926E</td>\n      <td>A-1049127W</td>\n      <td>g1p</td>\n      <td>2020-01-02</td>\n      <td>6.01</td>\n      <td>20</td>\n      <td>315</td>\n      <td>61</td>\n      <td>81.959675</td>\n      <td>0</td>\n      <td>1276.328206</td>\n      <td>0</td>\n      <td>2.599112</td>\n      <td>2.461</td>\n      <td>299</td>\n    </tr>\n    <tr>\n      <th>3</th>\n      <td>t14229455i</td>\n      <td>A-1049127W</td>\n      <td>S1c</td>\n      <td>2020-01-02</td>\n      <td>0.26</td>\n      <td>19</td>\n      <td>205</td>\n      <td>32</td>\n      <td>128.000000</td>\n      <td>0</td>\n      <td>535.680831</td>\n      <td>0</td>\n      <td>3.216255</td>\n      <td>0.909</td>\n      <td>215</td>\n    </tr>\n    <tr>\n      <th>4</th>\n      <td>W17067612E</td>\n      <td>A-1049127W</td>\n      <td>X1b</td>\n      <td>2020-01-03</td>\n      <td>1.21</td>\n      <td>56</td>\n      <td>554</td>\n      <td>38</td>\n      <td>90.000000</td>\n      <td>1</td>\n      <td>1729.143367</td>\n      <td>0</td>\n      <td>2.716550</td>\n      <td>-1.822</td>\n      <td>581</td>\n    </tr>\n    <tr>\n      <th>...</th>\n      <td>...</td>\n      <td>...</td>\n      <td>...</td>\n      <td>...</td>\n      <td>...</td>\n      <td>...</td>\n      <td>...</td>\n      <td>...</td>\n      <td>...</td>\n      <td>...</td>\n      <td>...</td>\n      <td>...</td>\n      <td>...</td>\n      <td>...</td>\n      <td>...</td>\n    </tr>\n    <tr>\n      <th>739495</th>\n      <td>I15732675M</td>\n      <td>z91796444U</td>\n      <td>m1z</td>\n      <td>2020-03-30</td>\n      <td>7.42</td>\n      <td>164</td>\n      <td>2290</td>\n      <td>49</td>\n      <td>54.586302</td>\n      <td>0</td>\n      <td>2274.772387</td>\n      <td>0</td>\n      <td>6.137593</td>\n      <td>-39.752</td>\n      <td>2175</td>\n    </tr>\n    <tr>\n      <th>739496</th>\n      <td>r51579957X</td>\n      <td>z91796444U</td>\n      <td>t1P</td>\n      <td>2020-03-30</td>\n      <td>4.19</td>\n      <td>26</td>\n      <td>412</td>\n      <td>46</td>\n      <td>73.000000</td>\n      <td>0</td>\n      <td>515.580231</td>\n      <td>0</td>\n      <td>6.703367</td>\n      <td>-38.480</td>\n      <td>432</td>\n    </tr>\n    <tr>\n      <th>739497</th>\n      <td>l15212727I</td>\n      <td>z91796444U</td>\n      <td>z1A</td>\n      <td>2020-03-31</td>\n      <td>3.40</td>\n      <td>23</td>\n      <td>178</td>\n      <td>37</td>\n      <td>71.000000</td>\n      <td>1</td>\n      <td>444.846677</td>\n      <td>0</td>\n      <td>6.255344</td>\n      <td>-45.080</td>\n      <td>186</td>\n    </tr>\n    <tr>\n      <th>739498</th>\n      <td>Z78949958q</td>\n      <td>z91796444U</td>\n      <td>w1R</td>\n      <td>2020-04-01</td>\n      <td>9.02</td>\n      <td>5</td>\n      <td>75</td>\n      <td>48</td>\n      <td>87.000000</td>\n      <td>1</td>\n      <td>179.464361</td>\n      <td>0</td>\n      <td>7.759949</td>\n      <td>-60.193</td>\n      <td>71</td>\n    </tr>\n    <tr>\n      <th>739499</th>\n      <td>T14594979g</td>\n      <td>z91796444U</td>\n      <td>k1R</td>\n      <td>2020-04-01</td>\n      <td>5.96</td>\n      <td>29</td>\n      <td>344</td>\n      <td>45</td>\n      <td>55.000000</td>\n      <td>2</td>\n      <td>1140.454305</td>\n      <td>0</td>\n      <td>NaN</td>\n      <td>-50.835</td>\n      <td>361</td>\n    </tr>\n  </tbody>\n</table>\n<p>739500 rows × 15 columns</p>\n</div>"
     },
     "execution_count": 126,
     "metadata": {},
     "output_type": "execute_result"
    }
   ],
   "source": [
    "df"
   ],
   "metadata": {
    "collapsed": false,
    "ExecuteTime": {
     "end_time": "2023-08-24T14:39:14.316715Z",
     "start_time": "2023-08-24T14:39:14.310032Z"
    }
   }
  },
  {
   "cell_type": "markdown",
   "source": [
    "# 3.1.3"
   ],
   "metadata": {
    "collapsed": false
   }
  },
  {
   "cell_type": "code",
   "execution_count": 127,
   "outputs": [
    {
     "data": {
      "text/plain": "       car_id    rating  ride_duration     ride_cost\n0  A-1049127W  4.255172    1289.034483  15201.436782\n1  A-1079539w  4.088046    2148.810345  27007.477011\n2  A-1162143G  4.662299     479.017241   4599.678161\n3  A-1228282M  4.225172    2167.534483  27379.522989\n4  A-1339912r  4.690115    1436.614943  16185.545977",
      "text/html": "<div>\n<style scoped>\n    .dataframe tbody tr th:only-of-type {\n        vertical-align: middle;\n    }\n\n    .dataframe tbody tr th {\n        vertical-align: top;\n    }\n\n    .dataframe thead th {\n        text-align: right;\n    }\n</style>\n<table border=\"1\" class=\"dataframe\">\n  <thead>\n    <tr style=\"text-align: right;\">\n      <th></th>\n      <th>car_id</th>\n      <th>rating</th>\n      <th>ride_duration</th>\n      <th>ride_cost</th>\n    </tr>\n  </thead>\n  <tbody>\n    <tr>\n      <th>0</th>\n      <td>A-1049127W</td>\n      <td>4.255172</td>\n      <td>1289.034483</td>\n      <td>15201.436782</td>\n    </tr>\n    <tr>\n      <th>1</th>\n      <td>A-1079539w</td>\n      <td>4.088046</td>\n      <td>2148.810345</td>\n      <td>27007.477011</td>\n    </tr>\n    <tr>\n      <th>2</th>\n      <td>A-1162143G</td>\n      <td>4.662299</td>\n      <td>479.017241</td>\n      <td>4599.678161</td>\n    </tr>\n    <tr>\n      <th>3</th>\n      <td>A-1228282M</td>\n      <td>4.225172</td>\n      <td>2167.534483</td>\n      <td>27379.522989</td>\n    </tr>\n    <tr>\n      <th>4</th>\n      <td>A-1339912r</td>\n      <td>4.690115</td>\n      <td>1436.614943</td>\n      <td>16185.545977</td>\n    </tr>\n  </tbody>\n</table>\n</div>"
     },
     "execution_count": 127,
     "metadata": {},
     "output_type": "execute_result"
    }
   ],
   "source": [
    "# groupby() + count/mean/sum/median\n",
    "cols = [\"rating\", \"ride_duration\", \"ride_cost\"]\n",
    "rides_gr = df.groupby(\"car_id\", as_index=False)[cols].mean()\n",
    "rides_gr.head()"
   ],
   "metadata": {
    "collapsed": false,
    "ExecuteTime": {
     "end_time": "2023-08-24T14:39:14.372138Z",
     "start_time": "2023-08-24T14:39:14.312112Z"
    }
   }
  },
  {
   "cell_type": "code",
   "execution_count": 128,
   "outputs": [
    {
     "data": {
      "text/plain": "            rating_count  rating_mean  ride_cost_count  ride_cost_mean\ncar_id                                                                \nA-1049127W           174     4.255172              174    15201.436782\nA-1079539w           174     4.088046              174    27007.477011\nA-1162143G           174     4.662299              174     4599.678161\nA-1228282M           174     4.225172              174    27379.522989\nA-1339912r           174     4.690115              174    16185.545977",
      "text/html": "<div>\n<style scoped>\n    .dataframe tbody tr th:only-of-type {\n        vertical-align: middle;\n    }\n\n    .dataframe tbody tr th {\n        vertical-align: top;\n    }\n\n    .dataframe thead th {\n        text-align: right;\n    }\n</style>\n<table border=\"1\" class=\"dataframe\">\n  <thead>\n    <tr style=\"text-align: right;\">\n      <th></th>\n      <th>rating_count</th>\n      <th>rating_mean</th>\n      <th>ride_cost_count</th>\n      <th>ride_cost_mean</th>\n    </tr>\n    <tr>\n      <th>car_id</th>\n      <th></th>\n      <th></th>\n      <th></th>\n      <th></th>\n    </tr>\n  </thead>\n  <tbody>\n    <tr>\n      <th>A-1049127W</th>\n      <td>174</td>\n      <td>4.255172</td>\n      <td>174</td>\n      <td>15201.436782</td>\n    </tr>\n    <tr>\n      <th>A-1079539w</th>\n      <td>174</td>\n      <td>4.088046</td>\n      <td>174</td>\n      <td>27007.477011</td>\n    </tr>\n    <tr>\n      <th>A-1162143G</th>\n      <td>174</td>\n      <td>4.662299</td>\n      <td>174</td>\n      <td>4599.678161</td>\n    </tr>\n    <tr>\n      <th>A-1228282M</th>\n      <td>174</td>\n      <td>4.225172</td>\n      <td>174</td>\n      <td>27379.522989</td>\n    </tr>\n    <tr>\n      <th>A-1339912r</th>\n      <td>174</td>\n      <td>4.690115</td>\n      <td>174</td>\n      <td>16185.545977</td>\n    </tr>\n  </tbody>\n</table>\n</div>"
     },
     "execution_count": 128,
     "metadata": {},
     "output_type": "execute_result"
    }
   ],
   "source": [
    "# groupby() + aggregation()\n",
    "cols = [\"rating\", \"ride_cost\"]\n",
    "\n",
    "rides_info_gr = df.groupby(\"car_id\", as_index=False)[cols].agg([\"count\", \"mean\"])\n",
    "rides_info_gr.columns = [\"_\".join(c) for c in rides_info_gr.columns]  # Убираем мультииндекс\n",
    "rides_info_gr.head()"
   ],
   "metadata": {
    "collapsed": false,
    "ExecuteTime": {
     "end_time": "2023-08-24T14:39:14.415013Z",
     "start_time": "2023-08-24T14:39:14.366103Z"
    }
   }
  },
  {
   "cell_type": "code",
   "execution_count": 129,
   "outputs": [
    {
     "data": {
      "text/plain": "       car_id  rating_mean  ride_duration_sum  ride_cost_max  my_func_result\n0  A-1049127W     4.255172             224292         330149             147\n1  A-1079539w     4.088046             373893         638746             144\n2  A-1162143G     4.644509              83323         361523             138\n3  A-1228282M     4.225172             377151         580732             148\n4  A-1339912r     4.690115             249971         478306             115",
      "text/html": "<div>\n<style scoped>\n    .dataframe tbody tr th:only-of-type {\n        vertical-align: middle;\n    }\n\n    .dataframe tbody tr th {\n        vertical-align: top;\n    }\n\n    .dataframe thead th {\n        text-align: right;\n    }\n</style>\n<table border=\"1\" class=\"dataframe\">\n  <thead>\n    <tr style=\"text-align: right;\">\n      <th></th>\n      <th>car_id</th>\n      <th>rating_mean</th>\n      <th>ride_duration_sum</th>\n      <th>ride_cost_max</th>\n      <th>my_func_result</th>\n    </tr>\n  </thead>\n  <tbody>\n    <tr>\n      <th>0</th>\n      <td>A-1049127W</td>\n      <td>4.255172</td>\n      <td>224292</td>\n      <td>330149</td>\n      <td>147</td>\n    </tr>\n    <tr>\n      <th>1</th>\n      <td>A-1079539w</td>\n      <td>4.088046</td>\n      <td>373893</td>\n      <td>638746</td>\n      <td>144</td>\n    </tr>\n    <tr>\n      <th>2</th>\n      <td>A-1162143G</td>\n      <td>4.644509</td>\n      <td>83323</td>\n      <td>361523</td>\n      <td>138</td>\n    </tr>\n    <tr>\n      <th>3</th>\n      <td>A-1228282M</td>\n      <td>4.225172</td>\n      <td>377151</td>\n      <td>580732</td>\n      <td>148</td>\n    </tr>\n    <tr>\n      <th>4</th>\n      <td>A-1339912r</td>\n      <td>4.690115</td>\n      <td>249971</td>\n      <td>478306</td>\n      <td>115</td>\n    </tr>\n  </tbody>\n</table>\n</div>"
     },
     "execution_count": 129,
     "metadata": {},
     "output_type": "execute_result"
    }
   ],
   "source": [
    "# groupby() + agg() + tuples\n",
    "my_func = lambda x: int(max(x) - min(x))  # Можно использовать свои собственные функции\n",
    "rides_gr = df.dropna().groupby(\"car_id\", as_index=False).agg(\n",
    "    rating_mean=(\"rating\", \"mean\"),\n",
    "    ride_duration_sum=(\"ride_duration\", sum),\n",
    "    ride_cost_max=(\"ride_cost\", \"max\"),\n",
    "    my_func_result=(\"speed_max\", my_func),\n",
    ")\n",
    "\n",
    "rides_gr.head(5)"
   ],
   "metadata": {
    "collapsed": false,
    "ExecuteTime": {
     "end_time": "2023-08-24T14:39:14.617931Z",
     "start_time": "2023-08-24T14:39:14.398862Z"
    }
   }
  },
  {
   "cell_type": "code",
   "execution_count": 130,
   "outputs": [],
   "source": [
    "df = pd.read_csv('https://stepik.org/media/attachments/lesson/779916/3_1_3.csv')\n",
    "ans = pd.read_csv('https://stepik.org/media/attachments/lesson/779916/3_1_3_ans.csv')"
   ],
   "metadata": {
    "collapsed": false,
    "ExecuteTime": {
     "end_time": "2023-08-24T14:39:15.027463Z",
     "start_time": "2023-08-24T14:39:14.611580Z"
    }
   }
  },
  {
   "cell_type": "code",
   "execution_count": 131,
   "outputs": [
    {
     "data": {
      "text/plain": "         car_id  rating  ride_duration  ride_cost   speed_max  stop_times\n81   q-1127410X    4.22             28        276  102.000000           0\n123  M15952724y    6.39             41        445   74.582484           0\n105  M50269450O    3.52             53        525   94.000000           2",
      "text/html": "<div>\n<style scoped>\n    .dataframe tbody tr th:only-of-type {\n        vertical-align: middle;\n    }\n\n    .dataframe tbody tr th {\n        vertical-align: top;\n    }\n\n    .dataframe thead th {\n        text-align: right;\n    }\n</style>\n<table border=\"1\" class=\"dataframe\">\n  <thead>\n    <tr style=\"text-align: right;\">\n      <th></th>\n      <th>car_id</th>\n      <th>rating</th>\n      <th>ride_duration</th>\n      <th>ride_cost</th>\n      <th>speed_max</th>\n      <th>stop_times</th>\n    </tr>\n  </thead>\n  <tbody>\n    <tr>\n      <th>81</th>\n      <td>q-1127410X</td>\n      <td>4.22</td>\n      <td>28</td>\n      <td>276</td>\n      <td>102.000000</td>\n      <td>0</td>\n    </tr>\n    <tr>\n      <th>123</th>\n      <td>M15952724y</td>\n      <td>6.39</td>\n      <td>41</td>\n      <td>445</td>\n      <td>74.582484</td>\n      <td>0</td>\n    </tr>\n    <tr>\n      <th>105</th>\n      <td>M50269450O</td>\n      <td>3.52</td>\n      <td>53</td>\n      <td>525</td>\n      <td>94.000000</td>\n      <td>2</td>\n    </tr>\n  </tbody>\n</table>\n</div>"
     },
     "execution_count": 131,
     "metadata": {},
     "output_type": "execute_result"
    }
   ],
   "source": [
    "df.sample(3)"
   ],
   "metadata": {
    "collapsed": false,
    "ExecuteTime": {
     "end_time": "2023-08-24T14:39:15.027848Z",
     "start_time": "2023-08-24T14:39:15.025511Z"
    }
   }
  },
  {
   "cell_type": "code",
   "execution_count": 132,
   "outputs": [],
   "source": [
    "# Создайте новый датафрейм, в котором для каждой машины есть следующие столбцы:\n",
    "#   - Столбец feature_1 - Количество уникальных значений остановок (stop_times).\n",
    "#   - Столбец feature_2 - Второй максимум столбца максимальной скорости (speed_max).\n",
    "#   - Столбец feature_3 - Отношение минимального и максимального значения рейтинга.\n",
    "#   - Столбец feature_4 - Самое популярное значение числа остановок (другим словами, мода).\n",
    "#   - Столбец feature_5 - Стандартное отклонение стоимостей поездок (ride_cost).\n",
    "#   - Решение запишите в переменную result."
   ],
   "metadata": {
    "collapsed": false,
    "ExecuteTime": {
     "end_time": "2023-08-24T14:39:15.031605Z",
     "start_time": "2023-08-24T14:39:15.028048Z"
    }
   }
  },
  {
   "cell_type": "code",
   "execution_count": 133,
   "outputs": [],
   "source": [
    "result = df.groupby('car_id', as_index=False).agg(\n",
    "    feature_1=('stop_times', 'nunique'),\n",
    "    feature_2=('speed_max', lambda x: sorted(x)[::-1][1:2][0]),\n",
    "    feature_3=('rating', lambda x: min(x) / max(x)),\n",
    "    feature_4=('stop_times', lambda x: pd.Series.mode(x)),\n",
    "    feature_5=('ride_cost', 'std') #lambda x: pd.Series.std(x))\n",
    ")"
   ],
   "metadata": {
    "collapsed": false,
    "ExecuteTime": {
     "end_time": "2023-08-24T14:39:15.037645Z",
     "start_time": "2023-08-24T14:39:15.033949Z"
    }
   }
  },
  {
   "cell_type": "markdown",
   "source": [
    "# 3.1.4"
   ],
   "metadata": {
    "collapsed": false
   }
  },
  {
   "cell_type": "code",
   "execution_count": 134,
   "outputs": [],
   "source": [
    "# Датасет rides содержит столбцы: car_id, ride_id, rating, ride_duration, ride_cost\n",
    "# Датасет cars содержит столбцы:car_id, model, riders, target_class\n",
    "# Задача:\n",
    "#   - Обогатите датасет rides про поездки информацией о будущем виде поломки, используя датасет cars.\n",
    "#   - Удалите лишние столбцы. Таблицу rides надо дополнить лишь столбцом target_class.\n",
    "#   - Удалите поездки, для которых нет информации про поломки.\n",
    "#   - Запишите в переменную result."
   ],
   "metadata": {
    "collapsed": false,
    "ExecuteTime": {
     "end_time": "2023-08-24T14:39:15.039926Z",
     "start_time": "2023-08-24T14:39:15.038404Z"
    }
   }
  },
  {
   "cell_type": "code",
   "execution_count": 135,
   "outputs": [],
   "source": [
    "rides = pd.read_csv('https://stepik.org/media/attachments/lesson/779916/3_1_4_rides.csv')\n",
    "cars = pd.read_csv('https://stepik.org/media/attachments/lesson/779916/3_1_4_cars.csv')\n",
    "ans = pd.read_csv('https://stepik.org/media/attachments/lesson/779916/3_1_4_ans.csv')"
   ],
   "metadata": {
    "collapsed": false,
    "ExecuteTime": {
     "end_time": "2023-08-24T14:39:15.512906Z",
     "start_time": "2023-08-24T14:39:15.040125Z"
    }
   }
  },
  {
   "cell_type": "code",
   "execution_count": 136,
   "outputs": [
    {
     "name": "stdout",
     "output_type": "stream",
     "text": [
      "(50, 5)\n"
     ]
    },
    {
     "data": {
      "text/plain": "        car_id ride_id  rating  ride_duration  ride_cost\n7   L-1156474z     u1g    5.81             33        391\n10  t-1505206e     F1H    6.26             39        502\n44  S56454866u     i1w    3.70             19        223",
      "text/html": "<div>\n<style scoped>\n    .dataframe tbody tr th:only-of-type {\n        vertical-align: middle;\n    }\n\n    .dataframe tbody tr th {\n        vertical-align: top;\n    }\n\n    .dataframe thead th {\n        text-align: right;\n    }\n</style>\n<table border=\"1\" class=\"dataframe\">\n  <thead>\n    <tr style=\"text-align: right;\">\n      <th></th>\n      <th>car_id</th>\n      <th>ride_id</th>\n      <th>rating</th>\n      <th>ride_duration</th>\n      <th>ride_cost</th>\n    </tr>\n  </thead>\n  <tbody>\n    <tr>\n      <th>7</th>\n      <td>L-1156474z</td>\n      <td>u1g</td>\n      <td>5.81</td>\n      <td>33</td>\n      <td>391</td>\n    </tr>\n    <tr>\n      <th>10</th>\n      <td>t-1505206e</td>\n      <td>F1H</td>\n      <td>6.26</td>\n      <td>39</td>\n      <td>502</td>\n    </tr>\n    <tr>\n      <th>44</th>\n      <td>S56454866u</td>\n      <td>i1w</td>\n      <td>3.70</td>\n      <td>19</td>\n      <td>223</td>\n    </tr>\n  </tbody>\n</table>\n</div>"
     },
     "execution_count": 136,
     "metadata": {},
     "output_type": "execute_result"
    }
   ],
   "source": [
    "print(rides.shape)\n",
    "rides.sample(3)"
   ],
   "metadata": {
    "collapsed": false,
    "ExecuteTime": {
     "end_time": "2023-08-24T14:39:15.517789Z",
     "start_time": "2023-08-24T14:39:15.514897Z"
    }
   }
  },
  {
   "cell_type": "code",
   "execution_count": 137,
   "outputs": [
    {
     "name": "stdout",
     "output_type": "stream",
     "text": [
      "(7, 4)\n"
     ]
    },
    {
     "data": {
      "text/plain": "       car_id          model  riders  target_class\n0  s-1723833v       BMW 320i   58695  engine_check\n2  X10754765V      VW Tiguan  125986   electro_bug\n6  L-1156474z  Tesla Model 3   39718     break_bug",
      "text/html": "<div>\n<style scoped>\n    .dataframe tbody tr th:only-of-type {\n        vertical-align: middle;\n    }\n\n    .dataframe tbody tr th {\n        vertical-align: top;\n    }\n\n    .dataframe thead th {\n        text-align: right;\n    }\n</style>\n<table border=\"1\" class=\"dataframe\">\n  <thead>\n    <tr style=\"text-align: right;\">\n      <th></th>\n      <th>car_id</th>\n      <th>model</th>\n      <th>riders</th>\n      <th>target_class</th>\n    </tr>\n  </thead>\n  <tbody>\n    <tr>\n      <th>0</th>\n      <td>s-1723833v</td>\n      <td>BMW 320i</td>\n      <td>58695</td>\n      <td>engine_check</td>\n    </tr>\n    <tr>\n      <th>2</th>\n      <td>X10754765V</td>\n      <td>VW Tiguan</td>\n      <td>125986</td>\n      <td>electro_bug</td>\n    </tr>\n    <tr>\n      <th>6</th>\n      <td>L-1156474z</td>\n      <td>Tesla Model 3</td>\n      <td>39718</td>\n      <td>break_bug</td>\n    </tr>\n  </tbody>\n</table>\n</div>"
     },
     "execution_count": 137,
     "metadata": {},
     "output_type": "execute_result"
    }
   ],
   "source": [
    "print(cars.shape)\n",
    "cars.sample(3)"
   ],
   "metadata": {
    "collapsed": false,
    "ExecuteTime": {
     "end_time": "2023-08-24T14:39:15.526132Z",
     "start_time": "2023-08-24T14:39:15.516984Z"
    }
   }
  },
  {
   "cell_type": "code",
   "execution_count": 138,
   "outputs": [
    {
     "data": {
      "text/plain": "        car_id ride_id  rating  ride_duration  ride_cost     target_class\n7   L-1156474z     u1g    5.81             33        391        break_bug\n17  M20797256F     e1V    5.01             56        667  engine_overheat\n18  E16896376o     B1Q    4.88             26        228  engine_overheat\n21  X10754765V     M1i    1.62             29        312      electro_bug\n28  E16896376o     V1L    6.98             37        512  engine_overheat\n38  s-1723833v     I1q    3.94             63        813     engine_check",
      "text/html": "<div>\n<style scoped>\n    .dataframe tbody tr th:only-of-type {\n        vertical-align: middle;\n    }\n\n    .dataframe tbody tr th {\n        vertical-align: top;\n    }\n\n    .dataframe thead th {\n        text-align: right;\n    }\n</style>\n<table border=\"1\" class=\"dataframe\">\n  <thead>\n    <tr style=\"text-align: right;\">\n      <th></th>\n      <th>car_id</th>\n      <th>ride_id</th>\n      <th>rating</th>\n      <th>ride_duration</th>\n      <th>ride_cost</th>\n      <th>target_class</th>\n    </tr>\n  </thead>\n  <tbody>\n    <tr>\n      <th>7</th>\n      <td>L-1156474z</td>\n      <td>u1g</td>\n      <td>5.81</td>\n      <td>33</td>\n      <td>391</td>\n      <td>break_bug</td>\n    </tr>\n    <tr>\n      <th>17</th>\n      <td>M20797256F</td>\n      <td>e1V</td>\n      <td>5.01</td>\n      <td>56</td>\n      <td>667</td>\n      <td>engine_overheat</td>\n    </tr>\n    <tr>\n      <th>18</th>\n      <td>E16896376o</td>\n      <td>B1Q</td>\n      <td>4.88</td>\n      <td>26</td>\n      <td>228</td>\n      <td>engine_overheat</td>\n    </tr>\n    <tr>\n      <th>21</th>\n      <td>X10754765V</td>\n      <td>M1i</td>\n      <td>1.62</td>\n      <td>29</td>\n      <td>312</td>\n      <td>electro_bug</td>\n    </tr>\n    <tr>\n      <th>28</th>\n      <td>E16896376o</td>\n      <td>V1L</td>\n      <td>6.98</td>\n      <td>37</td>\n      <td>512</td>\n      <td>engine_overheat</td>\n    </tr>\n    <tr>\n      <th>38</th>\n      <td>s-1723833v</td>\n      <td>I1q</td>\n      <td>3.94</td>\n      <td>63</td>\n      <td>813</td>\n      <td>engine_check</td>\n    </tr>\n  </tbody>\n</table>\n</div>"
     },
     "execution_count": 138,
     "metadata": {},
     "output_type": "execute_result"
    }
   ],
   "source": [
    "result = rides.merge(cars, on='car_id', how='left')\n",
    "result.drop(['model', 'riders'], axis=1, inplace=True)\n",
    "result.dropna(subset=['target_class'], axis=0, inplace=True)\n",
    "result"
   ],
   "metadata": {
    "collapsed": false,
    "ExecuteTime": {
     "end_time": "2023-08-24T14:39:15.532614Z",
     "start_time": "2023-08-24T14:39:15.529819Z"
    }
   }
  },
  {
   "cell_type": "markdown",
   "source": [
    "# 3.1.5"
   ],
   "metadata": {
    "collapsed": false
   }
  },
  {
   "cell_type": "code",
   "execution_count": 139,
   "outputs": [],
   "source": [
    "# Датасет rides содержит столбцы car_id, ride_id, user_id, rating, ride_cost\n",
    "# Задача:\n",
    "#   - Обогатите датасет rides про поездки дополнительными признаками без использования метода merge.\n",
    "#   - Добавьте столбец car_ride_count - общее число поездок для этой машины.\n",
    "#   - Добавьте столбец user_rating_max - максимальный рейтинг, поставленный этим пользователем.\n",
    "#   - Добавьте столбец user_ride_cost_mean - средняя стоимость поездки этого пользователя.\n",
    "#   - Результат запишите в переменную result."
   ],
   "metadata": {
    "collapsed": false,
    "ExecuteTime": {
     "end_time": "2023-08-24T14:39:15.589630Z",
     "start_time": "2023-08-24T14:39:15.532062Z"
    }
   }
  },
  {
   "cell_type": "code",
   "execution_count": 140,
   "outputs": [
    {
     "data": {
      "text/plain": "        car_id ride_id     user_id  rating  ride_cost  true_car_ride_count  \\\n0   D17587481H     E1V  Q20675647n    1.96        282                    3   \n1   w13176062d     V1h  O11803938a    4.45        308                    4   \n2   s-2202835E     B1g  u20234217o    2.76        525                    4   \n3   H-1213278K     i1U  c19828320U    7.12       6154                    5   \n4   H-2108091L     j1Z  l90945335K    1.68        539                    4   \n..         ...     ...         ...     ...        ...                  ...   \n95  I-1538597J     E1u  s62773754W    9.80        115                    2   \n96  g21645452f     r1J  a28773047v    4.26        387                    3   \n97  s20690018N     z1A  m35202170I    2.75        155                    2   \n98  v11386552i     z1v  b62669559O    0.88     123261                    2   \n99  W-1942072H     q1N  H27099396J    5.74     441273                    2   \n\n    true_user_rating_max  true_user_ride_cost_mean  \n0                   1.96                     282.0  \n1                   4.45                     308.0  \n2                   2.76                     525.0  \n3                   7.12                    6154.0  \n4                   1.68                     539.0  \n..                   ...                       ...  \n95                  9.80                     115.0  \n96                  4.26                     387.0  \n97                  2.75                     155.0  \n98                  0.88                  123261.0  \n99                  5.74                  441273.0  \n\n[100 rows x 8 columns]",
      "text/html": "<div>\n<style scoped>\n    .dataframe tbody tr th:only-of-type {\n        vertical-align: middle;\n    }\n\n    .dataframe tbody tr th {\n        vertical-align: top;\n    }\n\n    .dataframe thead th {\n        text-align: right;\n    }\n</style>\n<table border=\"1\" class=\"dataframe\">\n  <thead>\n    <tr style=\"text-align: right;\">\n      <th></th>\n      <th>car_id</th>\n      <th>ride_id</th>\n      <th>user_id</th>\n      <th>rating</th>\n      <th>ride_cost</th>\n      <th>true_car_ride_count</th>\n      <th>true_user_rating_max</th>\n      <th>true_user_ride_cost_mean</th>\n    </tr>\n  </thead>\n  <tbody>\n    <tr>\n      <th>0</th>\n      <td>D17587481H</td>\n      <td>E1V</td>\n      <td>Q20675647n</td>\n      <td>1.96</td>\n      <td>282</td>\n      <td>3</td>\n      <td>1.96</td>\n      <td>282.0</td>\n    </tr>\n    <tr>\n      <th>1</th>\n      <td>w13176062d</td>\n      <td>V1h</td>\n      <td>O11803938a</td>\n      <td>4.45</td>\n      <td>308</td>\n      <td>4</td>\n      <td>4.45</td>\n      <td>308.0</td>\n    </tr>\n    <tr>\n      <th>2</th>\n      <td>s-2202835E</td>\n      <td>B1g</td>\n      <td>u20234217o</td>\n      <td>2.76</td>\n      <td>525</td>\n      <td>4</td>\n      <td>2.76</td>\n      <td>525.0</td>\n    </tr>\n    <tr>\n      <th>3</th>\n      <td>H-1213278K</td>\n      <td>i1U</td>\n      <td>c19828320U</td>\n      <td>7.12</td>\n      <td>6154</td>\n      <td>5</td>\n      <td>7.12</td>\n      <td>6154.0</td>\n    </tr>\n    <tr>\n      <th>4</th>\n      <td>H-2108091L</td>\n      <td>j1Z</td>\n      <td>l90945335K</td>\n      <td>1.68</td>\n      <td>539</td>\n      <td>4</td>\n      <td>1.68</td>\n      <td>539.0</td>\n    </tr>\n    <tr>\n      <th>...</th>\n      <td>...</td>\n      <td>...</td>\n      <td>...</td>\n      <td>...</td>\n      <td>...</td>\n      <td>...</td>\n      <td>...</td>\n      <td>...</td>\n    </tr>\n    <tr>\n      <th>95</th>\n      <td>I-1538597J</td>\n      <td>E1u</td>\n      <td>s62773754W</td>\n      <td>9.80</td>\n      <td>115</td>\n      <td>2</td>\n      <td>9.80</td>\n      <td>115.0</td>\n    </tr>\n    <tr>\n      <th>96</th>\n      <td>g21645452f</td>\n      <td>r1J</td>\n      <td>a28773047v</td>\n      <td>4.26</td>\n      <td>387</td>\n      <td>3</td>\n      <td>4.26</td>\n      <td>387.0</td>\n    </tr>\n    <tr>\n      <th>97</th>\n      <td>s20690018N</td>\n      <td>z1A</td>\n      <td>m35202170I</td>\n      <td>2.75</td>\n      <td>155</td>\n      <td>2</td>\n      <td>2.75</td>\n      <td>155.0</td>\n    </tr>\n    <tr>\n      <th>98</th>\n      <td>v11386552i</td>\n      <td>z1v</td>\n      <td>b62669559O</td>\n      <td>0.88</td>\n      <td>123261</td>\n      <td>2</td>\n      <td>0.88</td>\n      <td>123261.0</td>\n    </tr>\n    <tr>\n      <th>99</th>\n      <td>W-1942072H</td>\n      <td>q1N</td>\n      <td>H27099396J</td>\n      <td>5.74</td>\n      <td>441273</td>\n      <td>2</td>\n      <td>5.74</td>\n      <td>441273.0</td>\n    </tr>\n  </tbody>\n</table>\n<p>100 rows × 8 columns</p>\n</div>"
     },
     "execution_count": 140,
     "metadata": {},
     "output_type": "execute_result"
    }
   ],
   "source": [
    "rides = pd.read_csv('https://stepik.org/media/attachments/lesson/779916/3_1_5.csv')\n",
    "rides"
   ],
   "metadata": {
    "collapsed": false,
    "ExecuteTime": {
     "end_time": "2023-08-24T14:39:15.775488Z",
     "start_time": "2023-08-24T14:39:15.535052Z"
    }
   }
  },
  {
   "cell_type": "code",
   "execution_count": 141,
   "outputs": [],
   "source": [
    "rides['car_ride_count'] = rides.groupby('car_id', as_index=False)['ride_id'].transform('count')\n",
    "rides['user_rating_max'] = rides.groupby('user_id', as_index=False)['rating'].transform('max')\n",
    "rides['user_ride_cost_mean'] = rides.groupby('user_id', as_index=False)['ride_cost'].transform('mean')"
   ],
   "metadata": {
    "collapsed": false,
    "ExecuteTime": {
     "end_time": "2023-08-24T14:39:15.775652Z",
     "start_time": "2023-08-24T14:39:15.680957Z"
    }
   }
  },
  {
   "cell_type": "code",
   "execution_count": 142,
   "outputs": [
    {
     "data": {
      "text/plain": "        car_id ride_id     user_id  rating  ride_cost  true_car_ride_count  \\\n0   D17587481H     E1V  Q20675647n    1.96        282                    3   \n1   w13176062d     V1h  O11803938a    4.45        308                    4   \n2   s-2202835E     B1g  u20234217o    2.76        525                    4   \n3   H-1213278K     i1U  c19828320U    7.12       6154                    5   \n4   H-2108091L     j1Z  l90945335K    1.68        539                    4   \n..         ...     ...         ...     ...        ...                  ...   \n95  I-1538597J     E1u  s62773754W    9.80        115                    2   \n96  g21645452f     r1J  a28773047v    4.26        387                    3   \n97  s20690018N     z1A  m35202170I    2.75        155                    2   \n98  v11386552i     z1v  b62669559O    0.88     123261                    2   \n99  W-1942072H     q1N  H27099396J    5.74     441273                    2   \n\n    true_user_rating_max  true_user_ride_cost_mean  car_ride_count  \\\n0                   1.96                     282.0               3   \n1                   4.45                     308.0               4   \n2                   2.76                     525.0               4   \n3                   7.12                    6154.0               5   \n4                   1.68                     539.0               4   \n..                   ...                       ...             ...   \n95                  9.80                     115.0               2   \n96                  4.26                     387.0               3   \n97                  2.75                     155.0               2   \n98                  0.88                  123261.0               2   \n99                  5.74                  441273.0               2   \n\n    user_rating_max  user_ride_cost_mean  \n0              1.96                282.0  \n1              4.45                308.0  \n2              2.76                525.0  \n3              7.12               6154.0  \n4              1.68                539.0  \n..              ...                  ...  \n95             9.80                115.0  \n96             4.26                387.0  \n97             2.75                155.0  \n98             0.88             123261.0  \n99             5.74             441273.0  \n\n[100 rows x 11 columns]",
      "text/html": "<div>\n<style scoped>\n    .dataframe tbody tr th:only-of-type {\n        vertical-align: middle;\n    }\n\n    .dataframe tbody tr th {\n        vertical-align: top;\n    }\n\n    .dataframe thead th {\n        text-align: right;\n    }\n</style>\n<table border=\"1\" class=\"dataframe\">\n  <thead>\n    <tr style=\"text-align: right;\">\n      <th></th>\n      <th>car_id</th>\n      <th>ride_id</th>\n      <th>user_id</th>\n      <th>rating</th>\n      <th>ride_cost</th>\n      <th>true_car_ride_count</th>\n      <th>true_user_rating_max</th>\n      <th>true_user_ride_cost_mean</th>\n      <th>car_ride_count</th>\n      <th>user_rating_max</th>\n      <th>user_ride_cost_mean</th>\n    </tr>\n  </thead>\n  <tbody>\n    <tr>\n      <th>0</th>\n      <td>D17587481H</td>\n      <td>E1V</td>\n      <td>Q20675647n</td>\n      <td>1.96</td>\n      <td>282</td>\n      <td>3</td>\n      <td>1.96</td>\n      <td>282.0</td>\n      <td>3</td>\n      <td>1.96</td>\n      <td>282.0</td>\n    </tr>\n    <tr>\n      <th>1</th>\n      <td>w13176062d</td>\n      <td>V1h</td>\n      <td>O11803938a</td>\n      <td>4.45</td>\n      <td>308</td>\n      <td>4</td>\n      <td>4.45</td>\n      <td>308.0</td>\n      <td>4</td>\n      <td>4.45</td>\n      <td>308.0</td>\n    </tr>\n    <tr>\n      <th>2</th>\n      <td>s-2202835E</td>\n      <td>B1g</td>\n      <td>u20234217o</td>\n      <td>2.76</td>\n      <td>525</td>\n      <td>4</td>\n      <td>2.76</td>\n      <td>525.0</td>\n      <td>4</td>\n      <td>2.76</td>\n      <td>525.0</td>\n    </tr>\n    <tr>\n      <th>3</th>\n      <td>H-1213278K</td>\n      <td>i1U</td>\n      <td>c19828320U</td>\n      <td>7.12</td>\n      <td>6154</td>\n      <td>5</td>\n      <td>7.12</td>\n      <td>6154.0</td>\n      <td>5</td>\n      <td>7.12</td>\n      <td>6154.0</td>\n    </tr>\n    <tr>\n      <th>4</th>\n      <td>H-2108091L</td>\n      <td>j1Z</td>\n      <td>l90945335K</td>\n      <td>1.68</td>\n      <td>539</td>\n      <td>4</td>\n      <td>1.68</td>\n      <td>539.0</td>\n      <td>4</td>\n      <td>1.68</td>\n      <td>539.0</td>\n    </tr>\n    <tr>\n      <th>...</th>\n      <td>...</td>\n      <td>...</td>\n      <td>...</td>\n      <td>...</td>\n      <td>...</td>\n      <td>...</td>\n      <td>...</td>\n      <td>...</td>\n      <td>...</td>\n      <td>...</td>\n      <td>...</td>\n    </tr>\n    <tr>\n      <th>95</th>\n      <td>I-1538597J</td>\n      <td>E1u</td>\n      <td>s62773754W</td>\n      <td>9.80</td>\n      <td>115</td>\n      <td>2</td>\n      <td>9.80</td>\n      <td>115.0</td>\n      <td>2</td>\n      <td>9.80</td>\n      <td>115.0</td>\n    </tr>\n    <tr>\n      <th>96</th>\n      <td>g21645452f</td>\n      <td>r1J</td>\n      <td>a28773047v</td>\n      <td>4.26</td>\n      <td>387</td>\n      <td>3</td>\n      <td>4.26</td>\n      <td>387.0</td>\n      <td>3</td>\n      <td>4.26</td>\n      <td>387.0</td>\n    </tr>\n    <tr>\n      <th>97</th>\n      <td>s20690018N</td>\n      <td>z1A</td>\n      <td>m35202170I</td>\n      <td>2.75</td>\n      <td>155</td>\n      <td>2</td>\n      <td>2.75</td>\n      <td>155.0</td>\n      <td>2</td>\n      <td>2.75</td>\n      <td>155.0</td>\n    </tr>\n    <tr>\n      <th>98</th>\n      <td>v11386552i</td>\n      <td>z1v</td>\n      <td>b62669559O</td>\n      <td>0.88</td>\n      <td>123261</td>\n      <td>2</td>\n      <td>0.88</td>\n      <td>123261.0</td>\n      <td>2</td>\n      <td>0.88</td>\n      <td>123261.0</td>\n    </tr>\n    <tr>\n      <th>99</th>\n      <td>W-1942072H</td>\n      <td>q1N</td>\n      <td>H27099396J</td>\n      <td>5.74</td>\n      <td>441273</td>\n      <td>2</td>\n      <td>5.74</td>\n      <td>441273.0</td>\n      <td>2</td>\n      <td>5.74</td>\n      <td>441273.0</td>\n    </tr>\n  </tbody>\n</table>\n<p>100 rows × 11 columns</p>\n</div>"
     },
     "execution_count": 142,
     "metadata": {},
     "output_type": "execute_result"
    }
   ],
   "source": [
    "rides"
   ],
   "metadata": {
    "collapsed": false,
    "ExecuteTime": {
     "end_time": "2023-08-24T14:39:15.775737Z",
     "start_time": "2023-08-24T14:39:15.681282Z"
    }
   }
  },
  {
   "cell_type": "markdown",
   "source": [
    "# 3.1.6"
   ],
   "metadata": {
    "collapsed": false
   }
  },
  {
   "cell_type": "code",
   "execution_count": 143,
   "outputs": [],
   "source": [
    "# Датасет rides содержит столбцы: car_id, ride_id, user_id, rating, ride_duration, ride_cost\n",
    "#\n",
    "# Обогатите датасет rides про поездки дополнительными признаками без использования метода merge.\n",
    "#   - Добавьте столбец feature_1 — 75% перцентиль столбца ride_cost для каждого пользователя (user_id).\n",
    "#   - Добавьте столбец feature_2 — разницу максимального и минимального значения rating, деленную на среднее столбца rating для каждого пользователя (user_id).\n",
    "#   - Добавьте столбец feature_3  — количество значений ride_duration, которое больше 40 для каждой машины (car_id).\n",
    "#   - Добавьте столбец feature_4 — сумму значений ride_duration, которая больше 40 для каждой машины (car_id).\n",
    "#   - Результат запишите в переменную result.\n"
   ],
   "metadata": {
    "collapsed": false,
    "ExecuteTime": {
     "end_time": "2023-08-24T14:39:15.775804Z",
     "start_time": "2023-08-24T14:39:15.694320Z"
    }
   }
  },
  {
   "cell_type": "code",
   "execution_count": 144,
   "outputs": [
    {
     "data": {
      "text/plain": "        car_id ride_id     user_id  rating  ride_duration  ride_cost  \\\n0   v13590850L     m1q  S54951221d    1.38             52        723   \n1   C-1092574s     q1w  h90416721m    8.36          33572     470001   \n2   i77678921h     i1i  A15424124M    7.03             49        385   \n3   U16614632F     p1m  Q22613814X    6.87             43        510   \n4   i55328849i     I1A  N22883211D    4.30            110       1536   \n..         ...     ...         ...     ...            ...        ...   \n95  j22108372p     V1J  V75566459d    4.00          23958     239574   \n96  B-3513567K     W1b  q20149942o    0.10             39       1946   \n97  u20627445L     e1z  b61297238i    0.65             25        293   \n98  U16614632F     n1g  r18895845t    5.20             59        525   \n99  i77678921h     l1G  D93858475U    2.15             28        388   \n\n    true_feature_1  true_feature_2  true_feature_3  true_feature_4  \n0           599.25        1.043328               1              52  \n1        470001.00        0.000000               6          100329  \n2           385.00        0.000000               3             169  \n3           510.00        0.000000               5             320  \n4          1536.00        0.000000              10           23108  \n..             ...             ...             ...             ...  \n95       179724.50        0.102497               1           23958  \n96         1946.00        0.000000               4           17106  \n97          836.00        1.875283               0               0  \n98          525.00        0.000000               5             320  \n99          388.00        0.000000               3             169  \n\n[100 rows x 10 columns]",
      "text/html": "<div>\n<style scoped>\n    .dataframe tbody tr th:only-of-type {\n        vertical-align: middle;\n    }\n\n    .dataframe tbody tr th {\n        vertical-align: top;\n    }\n\n    .dataframe thead th {\n        text-align: right;\n    }\n</style>\n<table border=\"1\" class=\"dataframe\">\n  <thead>\n    <tr style=\"text-align: right;\">\n      <th></th>\n      <th>car_id</th>\n      <th>ride_id</th>\n      <th>user_id</th>\n      <th>rating</th>\n      <th>ride_duration</th>\n      <th>ride_cost</th>\n      <th>true_feature_1</th>\n      <th>true_feature_2</th>\n      <th>true_feature_3</th>\n      <th>true_feature_4</th>\n    </tr>\n  </thead>\n  <tbody>\n    <tr>\n      <th>0</th>\n      <td>v13590850L</td>\n      <td>m1q</td>\n      <td>S54951221d</td>\n      <td>1.38</td>\n      <td>52</td>\n      <td>723</td>\n      <td>599.25</td>\n      <td>1.043328</td>\n      <td>1</td>\n      <td>52</td>\n    </tr>\n    <tr>\n      <th>1</th>\n      <td>C-1092574s</td>\n      <td>q1w</td>\n      <td>h90416721m</td>\n      <td>8.36</td>\n      <td>33572</td>\n      <td>470001</td>\n      <td>470001.00</td>\n      <td>0.000000</td>\n      <td>6</td>\n      <td>100329</td>\n    </tr>\n    <tr>\n      <th>2</th>\n      <td>i77678921h</td>\n      <td>i1i</td>\n      <td>A15424124M</td>\n      <td>7.03</td>\n      <td>49</td>\n      <td>385</td>\n      <td>385.00</td>\n      <td>0.000000</td>\n      <td>3</td>\n      <td>169</td>\n    </tr>\n    <tr>\n      <th>3</th>\n      <td>U16614632F</td>\n      <td>p1m</td>\n      <td>Q22613814X</td>\n      <td>6.87</td>\n      <td>43</td>\n      <td>510</td>\n      <td>510.00</td>\n      <td>0.000000</td>\n      <td>5</td>\n      <td>320</td>\n    </tr>\n    <tr>\n      <th>4</th>\n      <td>i55328849i</td>\n      <td>I1A</td>\n      <td>N22883211D</td>\n      <td>4.30</td>\n      <td>110</td>\n      <td>1536</td>\n      <td>1536.00</td>\n      <td>0.000000</td>\n      <td>10</td>\n      <td>23108</td>\n    </tr>\n    <tr>\n      <th>...</th>\n      <td>...</td>\n      <td>...</td>\n      <td>...</td>\n      <td>...</td>\n      <td>...</td>\n      <td>...</td>\n      <td>...</td>\n      <td>...</td>\n      <td>...</td>\n      <td>...</td>\n    </tr>\n    <tr>\n      <th>95</th>\n      <td>j22108372p</td>\n      <td>V1J</td>\n      <td>V75566459d</td>\n      <td>4.00</td>\n      <td>23958</td>\n      <td>239574</td>\n      <td>179724.50</td>\n      <td>0.102497</td>\n      <td>1</td>\n      <td>23958</td>\n    </tr>\n    <tr>\n      <th>96</th>\n      <td>B-3513567K</td>\n      <td>W1b</td>\n      <td>q20149942o</td>\n      <td>0.10</td>\n      <td>39</td>\n      <td>1946</td>\n      <td>1946.00</td>\n      <td>0.000000</td>\n      <td>4</td>\n      <td>17106</td>\n    </tr>\n    <tr>\n      <th>97</th>\n      <td>u20627445L</td>\n      <td>e1z</td>\n      <td>b61297238i</td>\n      <td>0.65</td>\n      <td>25</td>\n      <td>293</td>\n      <td>836.00</td>\n      <td>1.875283</td>\n      <td>0</td>\n      <td>0</td>\n    </tr>\n    <tr>\n      <th>98</th>\n      <td>U16614632F</td>\n      <td>n1g</td>\n      <td>r18895845t</td>\n      <td>5.20</td>\n      <td>59</td>\n      <td>525</td>\n      <td>525.00</td>\n      <td>0.000000</td>\n      <td>5</td>\n      <td>320</td>\n    </tr>\n    <tr>\n      <th>99</th>\n      <td>i77678921h</td>\n      <td>l1G</td>\n      <td>D93858475U</td>\n      <td>2.15</td>\n      <td>28</td>\n      <td>388</td>\n      <td>388.00</td>\n      <td>0.000000</td>\n      <td>3</td>\n      <td>169</td>\n    </tr>\n  </tbody>\n</table>\n<p>100 rows × 10 columns</p>\n</div>"
     },
     "execution_count": 144,
     "metadata": {},
     "output_type": "execute_result"
    }
   ],
   "source": [
    "rides = pd.read_csv('https://stepik.org/media/attachments/lesson/779916/3_1_6.csv')\n",
    "rides"
   ],
   "metadata": {
    "collapsed": false,
    "ExecuteTime": {
     "end_time": "2023-08-24T14:39:15.939258Z",
     "start_time": "2023-08-24T14:39:15.696289Z"
    }
   }
  },
  {
   "cell_type": "code",
   "execution_count": 145,
   "outputs": [],
   "source": [
    "import numpy as np\n",
    "\n",
    "f_1 = lambda x: x.quantile(q = 0.75)\n",
    "f_2 = lambda x: (max(x) - min(x)) / np.mean(x)\n",
    "f_3 = lambda x: sum(x > 40)\n",
    "f_4 = lambda x: sum(x[x > 40])\n",
    "\n",
    "rides['feature_1'] = rides.groupby('user_id', as_index=False)['ride_cost'].transform(f_1)\n",
    "rides['feature_2'] = rides.groupby('user_id', as_index=False)['rating'].transform(f_2)\n",
    "rides['feature_3'] = rides.groupby('car_id', as_index=False)['ride_duration'].transform(f_3)\n",
    "rides['feature_4'] = rides.groupby('car_id', as_index=False)['ride_duration'].transform(f_4)\n",
    "\n",
    "result = rides"
   ],
   "metadata": {
    "collapsed": false,
    "ExecuteTime": {
     "end_time": "2023-08-24T14:39:15.969547Z",
     "start_time": "2023-08-24T14:39:15.855733Z"
    }
   }
  },
  {
   "cell_type": "code",
   "execution_count": 146,
   "outputs": [
    {
     "data": {
      "text/plain": "        car_id ride_id     user_id  rating  ride_duration  ride_cost  \\\n0   v13590850L     m1q  S54951221d    1.38             52        723   \n1   C-1092574s     q1w  h90416721m    8.36          33572     470001   \n2   i77678921h     i1i  A15424124M    7.03             49        385   \n3   U16614632F     p1m  Q22613814X    6.87             43        510   \n4   i55328849i     I1A  N22883211D    4.30            110       1536   \n..         ...     ...         ...     ...            ...        ...   \n95  j22108372p     V1J  V75566459d    4.00          23958     239574   \n96  B-3513567K     W1b  q20149942o    0.10             39       1946   \n97  u20627445L     e1z  b61297238i    0.65             25        293   \n98  U16614632F     n1g  r18895845t    5.20             59        525   \n99  i77678921h     l1G  D93858475U    2.15             28        388   \n\n    true_feature_1  true_feature_2  true_feature_3  true_feature_4  feature_1  \\\n0           599.25        1.043328               1              52     599.25   \n1        470001.00        0.000000               6          100329  470001.00   \n2           385.00        0.000000               3             169     385.00   \n3           510.00        0.000000               5             320     510.00   \n4          1536.00        0.000000              10           23108    1536.00   \n..             ...             ...             ...             ...        ...   \n95       179724.50        0.102497               1           23958  179724.50   \n96         1946.00        0.000000               4           17106    1946.00   \n97          836.00        1.875283               0               0     836.00   \n98          525.00        0.000000               5             320     525.00   \n99          388.00        0.000000               3             169     388.00   \n\n    feature_2  feature_3  feature_4  \n0    1.043328          1         52  \n1    0.000000          6     100329  \n2    0.000000          3        169  \n3    0.000000          5        320  \n4    0.000000         10      23108  \n..        ...        ...        ...  \n95   0.102497          1      23958  \n96   0.000000          4      17106  \n97   1.875283          0          0  \n98   0.000000          5        320  \n99   0.000000          3        169  \n\n[100 rows x 14 columns]",
      "text/html": "<div>\n<style scoped>\n    .dataframe tbody tr th:only-of-type {\n        vertical-align: middle;\n    }\n\n    .dataframe tbody tr th {\n        vertical-align: top;\n    }\n\n    .dataframe thead th {\n        text-align: right;\n    }\n</style>\n<table border=\"1\" class=\"dataframe\">\n  <thead>\n    <tr style=\"text-align: right;\">\n      <th></th>\n      <th>car_id</th>\n      <th>ride_id</th>\n      <th>user_id</th>\n      <th>rating</th>\n      <th>ride_duration</th>\n      <th>ride_cost</th>\n      <th>true_feature_1</th>\n      <th>true_feature_2</th>\n      <th>true_feature_3</th>\n      <th>true_feature_4</th>\n      <th>feature_1</th>\n      <th>feature_2</th>\n      <th>feature_3</th>\n      <th>feature_4</th>\n    </tr>\n  </thead>\n  <tbody>\n    <tr>\n      <th>0</th>\n      <td>v13590850L</td>\n      <td>m1q</td>\n      <td>S54951221d</td>\n      <td>1.38</td>\n      <td>52</td>\n      <td>723</td>\n      <td>599.25</td>\n      <td>1.043328</td>\n      <td>1</td>\n      <td>52</td>\n      <td>599.25</td>\n      <td>1.043328</td>\n      <td>1</td>\n      <td>52</td>\n    </tr>\n    <tr>\n      <th>1</th>\n      <td>C-1092574s</td>\n      <td>q1w</td>\n      <td>h90416721m</td>\n      <td>8.36</td>\n      <td>33572</td>\n      <td>470001</td>\n      <td>470001.00</td>\n      <td>0.000000</td>\n      <td>6</td>\n      <td>100329</td>\n      <td>470001.00</td>\n      <td>0.000000</td>\n      <td>6</td>\n      <td>100329</td>\n    </tr>\n    <tr>\n      <th>2</th>\n      <td>i77678921h</td>\n      <td>i1i</td>\n      <td>A15424124M</td>\n      <td>7.03</td>\n      <td>49</td>\n      <td>385</td>\n      <td>385.00</td>\n      <td>0.000000</td>\n      <td>3</td>\n      <td>169</td>\n      <td>385.00</td>\n      <td>0.000000</td>\n      <td>3</td>\n      <td>169</td>\n    </tr>\n    <tr>\n      <th>3</th>\n      <td>U16614632F</td>\n      <td>p1m</td>\n      <td>Q22613814X</td>\n      <td>6.87</td>\n      <td>43</td>\n      <td>510</td>\n      <td>510.00</td>\n      <td>0.000000</td>\n      <td>5</td>\n      <td>320</td>\n      <td>510.00</td>\n      <td>0.000000</td>\n      <td>5</td>\n      <td>320</td>\n    </tr>\n    <tr>\n      <th>4</th>\n      <td>i55328849i</td>\n      <td>I1A</td>\n      <td>N22883211D</td>\n      <td>4.30</td>\n      <td>110</td>\n      <td>1536</td>\n      <td>1536.00</td>\n      <td>0.000000</td>\n      <td>10</td>\n      <td>23108</td>\n      <td>1536.00</td>\n      <td>0.000000</td>\n      <td>10</td>\n      <td>23108</td>\n    </tr>\n    <tr>\n      <th>...</th>\n      <td>...</td>\n      <td>...</td>\n      <td>...</td>\n      <td>...</td>\n      <td>...</td>\n      <td>...</td>\n      <td>...</td>\n      <td>...</td>\n      <td>...</td>\n      <td>...</td>\n      <td>...</td>\n      <td>...</td>\n      <td>...</td>\n      <td>...</td>\n    </tr>\n    <tr>\n      <th>95</th>\n      <td>j22108372p</td>\n      <td>V1J</td>\n      <td>V75566459d</td>\n      <td>4.00</td>\n      <td>23958</td>\n      <td>239574</td>\n      <td>179724.50</td>\n      <td>0.102497</td>\n      <td>1</td>\n      <td>23958</td>\n      <td>179724.50</td>\n      <td>0.102497</td>\n      <td>1</td>\n      <td>23958</td>\n    </tr>\n    <tr>\n      <th>96</th>\n      <td>B-3513567K</td>\n      <td>W1b</td>\n      <td>q20149942o</td>\n      <td>0.10</td>\n      <td>39</td>\n      <td>1946</td>\n      <td>1946.00</td>\n      <td>0.000000</td>\n      <td>4</td>\n      <td>17106</td>\n      <td>1946.00</td>\n      <td>0.000000</td>\n      <td>4</td>\n      <td>17106</td>\n    </tr>\n    <tr>\n      <th>97</th>\n      <td>u20627445L</td>\n      <td>e1z</td>\n      <td>b61297238i</td>\n      <td>0.65</td>\n      <td>25</td>\n      <td>293</td>\n      <td>836.00</td>\n      <td>1.875283</td>\n      <td>0</td>\n      <td>0</td>\n      <td>836.00</td>\n      <td>1.875283</td>\n      <td>0</td>\n      <td>0</td>\n    </tr>\n    <tr>\n      <th>98</th>\n      <td>U16614632F</td>\n      <td>n1g</td>\n      <td>r18895845t</td>\n      <td>5.20</td>\n      <td>59</td>\n      <td>525</td>\n      <td>525.00</td>\n      <td>0.000000</td>\n      <td>5</td>\n      <td>320</td>\n      <td>525.00</td>\n      <td>0.000000</td>\n      <td>5</td>\n      <td>320</td>\n    </tr>\n    <tr>\n      <th>99</th>\n      <td>i77678921h</td>\n      <td>l1G</td>\n      <td>D93858475U</td>\n      <td>2.15</td>\n      <td>28</td>\n      <td>388</td>\n      <td>388.00</td>\n      <td>0.000000</td>\n      <td>3</td>\n      <td>169</td>\n      <td>388.00</td>\n      <td>0.000000</td>\n      <td>3</td>\n      <td>169</td>\n    </tr>\n  </tbody>\n</table>\n<p>100 rows × 14 columns</p>\n</div>"
     },
     "execution_count": 146,
     "metadata": {},
     "output_type": "execute_result"
    }
   ],
   "source": [
    "result"
   ],
   "metadata": {
    "collapsed": false,
    "ExecuteTime": {
     "end_time": "2023-08-24T14:39:15.972805Z",
     "start_time": "2023-08-24T14:39:15.884325Z"
    }
   }
  },
  {
   "cell_type": "markdown",
   "source": [
    "# 3.1.7"
   ],
   "metadata": {
    "collapsed": false
   }
  },
  {
   "cell_type": "code",
   "execution_count": 169,
   "outputs": [],
   "source": [
    "# Задача. На основе этого датафрейма надо будет собрать несколько сводных таблиц (pivot table) и потом смержить их в одну итоговую, получив некое подобие эмбеддингов для подачи в модель.\n",
    "\n",
    "# Индексом во всех таблицах будет user_id.\n",
    "#   - Первая таблица: Сколько раз пользователь брал машины определенного класса?\n",
    "#   - Вторая таблица: Какими были максимальная, минимальная и средняя дистанция и стоимость поездки пользователя?\n",
    "#   - Третья таблица: Сколько уникальных машин брал пользователь в аренду?\n",
    "# Далее соединяем по ключу (смерживаем) все 3 таблицы в одну.\n",
    "# И в конце добавляем бинарный таргет в столбец crazy_driver: Является ли наш пользователь безумным гонщиком? Если его максимальная скорость превышала 100 км/ч, то 1; если не превышала, то 0.\n",
    "# Результат решения запишите в переменную result.\n",
    "# Комментарий: Не забывайте избавляться от мультииндекса и использовать pivot_table. Использовать groupby нельзя! Пропуски заполнять 0."
   ],
   "metadata": {
    "collapsed": false,
    "ExecuteTime": {
     "end_time": "2023-08-24T14:41:26.315885Z",
     "start_time": "2023-08-24T14:41:26.312941Z"
    }
   }
  },
  {
   "cell_type": "code",
   "execution_count": 183,
   "outputs": [],
   "source": [
    "df = pd.read_csv('https://stepik.org/media/attachments/lesson/779916/3_1_7.csv')\n",
    "ans = pd.read_csv('https://stepik.org/media/attachments/lesson/779916/3_1_7_ans.csv')"
   ],
   "metadata": {
    "collapsed": false,
    "ExecuteTime": {
     "end_time": "2023-08-24T14:46:13.953499Z",
     "start_time": "2023-08-24T14:46:13.667793Z"
    }
   }
  },
  {
   "cell_type": "code",
   "execution_count": 184,
   "outputs": [
    {
     "data": {
      "text/plain": "      user_id  car_type      car_id     distance  ride_cost   speed_max  \\\n0  h14343699V   economy  A-1049127W   158.842938        135   72.027288   \n1  b13580442h  standart  A-1079539w  3288.823484        510  124.758500   \n2  R21123881y   economy  A-1162143G  1464.013497        584   47.000000   \n3  P16628111o  standart  A-1079539w  1104.886251       1148   78.926452   \n4  W15317251O   economy  A-1162143G   983.088780        337  180.000000   \n\n             model  \n0  Hyundai Solaris  \n1   Renault Kaptur  \n2          VW Polo  \n3   Renault Kaptur  \n4          VW Polo  ",
      "text/html": "<div>\n<style scoped>\n    .dataframe tbody tr th:only-of-type {\n        vertical-align: middle;\n    }\n\n    .dataframe tbody tr th {\n        vertical-align: top;\n    }\n\n    .dataframe thead th {\n        text-align: right;\n    }\n</style>\n<table border=\"1\" class=\"dataframe\">\n  <thead>\n    <tr style=\"text-align: right;\">\n      <th></th>\n      <th>user_id</th>\n      <th>car_type</th>\n      <th>car_id</th>\n      <th>distance</th>\n      <th>ride_cost</th>\n      <th>speed_max</th>\n      <th>model</th>\n    </tr>\n  </thead>\n  <tbody>\n    <tr>\n      <th>0</th>\n      <td>h14343699V</td>\n      <td>economy</td>\n      <td>A-1049127W</td>\n      <td>158.842938</td>\n      <td>135</td>\n      <td>72.027288</td>\n      <td>Hyundai Solaris</td>\n    </tr>\n    <tr>\n      <th>1</th>\n      <td>b13580442h</td>\n      <td>standart</td>\n      <td>A-1079539w</td>\n      <td>3288.823484</td>\n      <td>510</td>\n      <td>124.758500</td>\n      <td>Renault Kaptur</td>\n    </tr>\n    <tr>\n      <th>2</th>\n      <td>R21123881y</td>\n      <td>economy</td>\n      <td>A-1162143G</td>\n      <td>1464.013497</td>\n      <td>584</td>\n      <td>47.000000</td>\n      <td>VW Polo</td>\n    </tr>\n    <tr>\n      <th>3</th>\n      <td>P16628111o</td>\n      <td>standart</td>\n      <td>A-1079539w</td>\n      <td>1104.886251</td>\n      <td>1148</td>\n      <td>78.926452</td>\n      <td>Renault Kaptur</td>\n    </tr>\n    <tr>\n      <th>4</th>\n      <td>W15317251O</td>\n      <td>economy</td>\n      <td>A-1162143G</td>\n      <td>983.088780</td>\n      <td>337</td>\n      <td>180.000000</td>\n      <td>VW Polo</td>\n    </tr>\n  </tbody>\n</table>\n</div>"
     },
     "execution_count": 184,
     "metadata": {},
     "output_type": "execute_result"
    }
   ],
   "source": [
    "df.head()"
   ],
   "metadata": {
    "collapsed": false,
    "ExecuteTime": {
     "end_time": "2023-08-24T14:46:14.100049Z",
     "start_time": "2023-08-24T14:46:14.091514Z"
    }
   }
  },
  {
   "cell_type": "code",
   "execution_count": 185,
   "outputs": [
    {
     "data": {
      "text/plain": "       user_id  economy_count  standart_count  distance_min  ride_cost_min  \\\n0   A11173530w            1.0             0.0  2.967598e+03            614   \n1   A66187474K            0.0             1.0  4.621773e+03           1320   \n2   C84438702e            1.0             0.0  1.221070e+03            195   \n3   E15036556k            0.0             1.0  1.284249e+06         374394   \n4   G84350611k            0.0             1.0  1.850353e+03            428   \n5   I12505308H            0.0             1.0  1.023812e+03            509   \n6   N78592053P            1.0             0.0  1.591183e+03            746   \n7   O16691347p            1.0             0.0  2.295234e+02            202   \n8   P16628111o            0.0             1.0  1.104886e+03           1148   \n9   R16443619c            1.0             0.0  1.324071e+03            512   \n10  R21123881y            1.0             0.0  1.464013e+03            584   \n11  S51575404w            1.0             0.0  3.988600e+02            257   \n12  T73601037O            1.0             0.0  1.212315e+02             46   \n13  U96048210v            1.0             0.0  9.618259e+02           1535   \n14  W15317251O            1.0             0.0  9.830888e+02            337   \n15  X84487465q            0.0             1.0  9.669285e+02            761   \n16  a84945199R            1.0             0.0  1.568265e+03            327   \n17  b13580442h            0.0             1.0  3.288823e+03            510   \n18  c16243825Y            1.0             0.0  2.139910e+03            370   \n19  e12723895d            0.0             1.0  2.465034e+02            149   \n20  f78566793v            0.0             1.0  2.838551e+03            696   \n21  h14343699V            1.0             0.0  1.588429e+02            135   \n22  i21972487P            1.0             0.0  5.423140e+02            526   \n23  o11160326l            1.0             0.0  3.186288e+03           1184   \n24  q16643160J            1.0             0.0  2.407440e+03           1524   \n25  r94110346t            1.0             0.0  5.555052e+05         163944   \n26  u92005384K            1.0             0.0  2.578132e+03           1179   \n27  v12246955f            0.0             1.0  3.815370e+02            106   \n28  y14157953A            1.0             0.0  2.093983e+03            681   \n29  z19432069u            1.0             0.0  1.729629e+03            555   \n\n    distance_max  ride_cost_max  distance_mean  ride_cost_mean  \\\n0   2.967598e+03            614   2.967598e+03             614   \n1   4.621773e+03           1320   4.621773e+03            1320   \n2   1.221070e+03            195   1.221070e+03             195   \n3   1.284249e+06         374394   1.284249e+06          374394   \n4   1.850353e+03            428   1.850353e+03             428   \n5   1.023812e+03            509   1.023812e+03             509   \n6   1.591183e+03            746   1.591183e+03             746   \n7   2.295234e+02            202   2.295234e+02             202   \n8   1.104886e+03           1148   1.104886e+03            1148   \n9   1.324071e+03            512   1.324071e+03             512   \n10  1.464013e+03            584   1.464013e+03             584   \n11  3.988600e+02            257   3.988600e+02             257   \n12  1.212315e+02             46   1.212315e+02              46   \n13  9.618259e+02           1535   9.618259e+02            1535   \n14  9.830888e+02            337   9.830888e+02             337   \n15  9.669285e+02            761   9.669285e+02             761   \n16  1.568265e+03            327   1.568265e+03             327   \n17  3.288823e+03            510   3.288823e+03             510   \n18  2.139910e+03            370   2.139910e+03             370   \n19  2.465034e+02            149   2.465034e+02             149   \n20  2.838551e+03            696   2.838551e+03             696   \n21  1.588429e+02            135   1.588429e+02             135   \n22  5.423140e+02            526   5.423140e+02             526   \n23  3.186288e+03           1184   3.186288e+03            1184   \n24  2.407440e+03           1524   2.407440e+03            1524   \n25  5.555052e+05         163944   5.555052e+05          163944   \n26  2.578132e+03           1179   2.578132e+03            1179   \n27  3.815370e+02            106   3.815370e+02             106   \n28  2.093983e+03            681   2.093983e+03             681   \n29  1.729629e+03            555   1.729629e+03             555   \n\n    car_id_nunique  crazy_driver  \n0                1             1  \n1                1             0  \n2                1             1  \n3                1             0  \n4                1             0  \n5                1             0  \n6                1             0  \n7                1             0  \n8                1             0  \n9                1             0  \n10               1             0  \n11               1             0  \n12               1             0  \n13               1             0  \n14               1             1  \n15               1             0  \n16               1             0  \n17               1             1  \n18               1             0  \n19               1             1  \n20               1             1  \n21               1             0  \n22               1             0  \n23               1             0  \n24               1             0  \n25               1             0  \n26               1             0  \n27               1             1  \n28               1             0  \n29               1             0  ",
      "text/html": "<div>\n<style scoped>\n    .dataframe tbody tr th:only-of-type {\n        vertical-align: middle;\n    }\n\n    .dataframe tbody tr th {\n        vertical-align: top;\n    }\n\n    .dataframe thead th {\n        text-align: right;\n    }\n</style>\n<table border=\"1\" class=\"dataframe\">\n  <thead>\n    <tr style=\"text-align: right;\">\n      <th></th>\n      <th>user_id</th>\n      <th>economy_count</th>\n      <th>standart_count</th>\n      <th>distance_min</th>\n      <th>ride_cost_min</th>\n      <th>distance_max</th>\n      <th>ride_cost_max</th>\n      <th>distance_mean</th>\n      <th>ride_cost_mean</th>\n      <th>car_id_nunique</th>\n      <th>crazy_driver</th>\n    </tr>\n  </thead>\n  <tbody>\n    <tr>\n      <th>0</th>\n      <td>A11173530w</td>\n      <td>1.0</td>\n      <td>0.0</td>\n      <td>2.967598e+03</td>\n      <td>614</td>\n      <td>2.967598e+03</td>\n      <td>614</td>\n      <td>2.967598e+03</td>\n      <td>614</td>\n      <td>1</td>\n      <td>1</td>\n    </tr>\n    <tr>\n      <th>1</th>\n      <td>A66187474K</td>\n      <td>0.0</td>\n      <td>1.0</td>\n      <td>4.621773e+03</td>\n      <td>1320</td>\n      <td>4.621773e+03</td>\n      <td>1320</td>\n      <td>4.621773e+03</td>\n      <td>1320</td>\n      <td>1</td>\n      <td>0</td>\n    </tr>\n    <tr>\n      <th>2</th>\n      <td>C84438702e</td>\n      <td>1.0</td>\n      <td>0.0</td>\n      <td>1.221070e+03</td>\n      <td>195</td>\n      <td>1.221070e+03</td>\n      <td>195</td>\n      <td>1.221070e+03</td>\n      <td>195</td>\n      <td>1</td>\n      <td>1</td>\n    </tr>\n    <tr>\n      <th>3</th>\n      <td>E15036556k</td>\n      <td>0.0</td>\n      <td>1.0</td>\n      <td>1.284249e+06</td>\n      <td>374394</td>\n      <td>1.284249e+06</td>\n      <td>374394</td>\n      <td>1.284249e+06</td>\n      <td>374394</td>\n      <td>1</td>\n      <td>0</td>\n    </tr>\n    <tr>\n      <th>4</th>\n      <td>G84350611k</td>\n      <td>0.0</td>\n      <td>1.0</td>\n      <td>1.850353e+03</td>\n      <td>428</td>\n      <td>1.850353e+03</td>\n      <td>428</td>\n      <td>1.850353e+03</td>\n      <td>428</td>\n      <td>1</td>\n      <td>0</td>\n    </tr>\n    <tr>\n      <th>5</th>\n      <td>I12505308H</td>\n      <td>0.0</td>\n      <td>1.0</td>\n      <td>1.023812e+03</td>\n      <td>509</td>\n      <td>1.023812e+03</td>\n      <td>509</td>\n      <td>1.023812e+03</td>\n      <td>509</td>\n      <td>1</td>\n      <td>0</td>\n    </tr>\n    <tr>\n      <th>6</th>\n      <td>N78592053P</td>\n      <td>1.0</td>\n      <td>0.0</td>\n      <td>1.591183e+03</td>\n      <td>746</td>\n      <td>1.591183e+03</td>\n      <td>746</td>\n      <td>1.591183e+03</td>\n      <td>746</td>\n      <td>1</td>\n      <td>0</td>\n    </tr>\n    <tr>\n      <th>7</th>\n      <td>O16691347p</td>\n      <td>1.0</td>\n      <td>0.0</td>\n      <td>2.295234e+02</td>\n      <td>202</td>\n      <td>2.295234e+02</td>\n      <td>202</td>\n      <td>2.295234e+02</td>\n      <td>202</td>\n      <td>1</td>\n      <td>0</td>\n    </tr>\n    <tr>\n      <th>8</th>\n      <td>P16628111o</td>\n      <td>0.0</td>\n      <td>1.0</td>\n      <td>1.104886e+03</td>\n      <td>1148</td>\n      <td>1.104886e+03</td>\n      <td>1148</td>\n      <td>1.104886e+03</td>\n      <td>1148</td>\n      <td>1</td>\n      <td>0</td>\n    </tr>\n    <tr>\n      <th>9</th>\n      <td>R16443619c</td>\n      <td>1.0</td>\n      <td>0.0</td>\n      <td>1.324071e+03</td>\n      <td>512</td>\n      <td>1.324071e+03</td>\n      <td>512</td>\n      <td>1.324071e+03</td>\n      <td>512</td>\n      <td>1</td>\n      <td>0</td>\n    </tr>\n    <tr>\n      <th>10</th>\n      <td>R21123881y</td>\n      <td>1.0</td>\n      <td>0.0</td>\n      <td>1.464013e+03</td>\n      <td>584</td>\n      <td>1.464013e+03</td>\n      <td>584</td>\n      <td>1.464013e+03</td>\n      <td>584</td>\n      <td>1</td>\n      <td>0</td>\n    </tr>\n    <tr>\n      <th>11</th>\n      <td>S51575404w</td>\n      <td>1.0</td>\n      <td>0.0</td>\n      <td>3.988600e+02</td>\n      <td>257</td>\n      <td>3.988600e+02</td>\n      <td>257</td>\n      <td>3.988600e+02</td>\n      <td>257</td>\n      <td>1</td>\n      <td>0</td>\n    </tr>\n    <tr>\n      <th>12</th>\n      <td>T73601037O</td>\n      <td>1.0</td>\n      <td>0.0</td>\n      <td>1.212315e+02</td>\n      <td>46</td>\n      <td>1.212315e+02</td>\n      <td>46</td>\n      <td>1.212315e+02</td>\n      <td>46</td>\n      <td>1</td>\n      <td>0</td>\n    </tr>\n    <tr>\n      <th>13</th>\n      <td>U96048210v</td>\n      <td>1.0</td>\n      <td>0.0</td>\n      <td>9.618259e+02</td>\n      <td>1535</td>\n      <td>9.618259e+02</td>\n      <td>1535</td>\n      <td>9.618259e+02</td>\n      <td>1535</td>\n      <td>1</td>\n      <td>0</td>\n    </tr>\n    <tr>\n      <th>14</th>\n      <td>W15317251O</td>\n      <td>1.0</td>\n      <td>0.0</td>\n      <td>9.830888e+02</td>\n      <td>337</td>\n      <td>9.830888e+02</td>\n      <td>337</td>\n      <td>9.830888e+02</td>\n      <td>337</td>\n      <td>1</td>\n      <td>1</td>\n    </tr>\n    <tr>\n      <th>15</th>\n      <td>X84487465q</td>\n      <td>0.0</td>\n      <td>1.0</td>\n      <td>9.669285e+02</td>\n      <td>761</td>\n      <td>9.669285e+02</td>\n      <td>761</td>\n      <td>9.669285e+02</td>\n      <td>761</td>\n      <td>1</td>\n      <td>0</td>\n    </tr>\n    <tr>\n      <th>16</th>\n      <td>a84945199R</td>\n      <td>1.0</td>\n      <td>0.0</td>\n      <td>1.568265e+03</td>\n      <td>327</td>\n      <td>1.568265e+03</td>\n      <td>327</td>\n      <td>1.568265e+03</td>\n      <td>327</td>\n      <td>1</td>\n      <td>0</td>\n    </tr>\n    <tr>\n      <th>17</th>\n      <td>b13580442h</td>\n      <td>0.0</td>\n      <td>1.0</td>\n      <td>3.288823e+03</td>\n      <td>510</td>\n      <td>3.288823e+03</td>\n      <td>510</td>\n      <td>3.288823e+03</td>\n      <td>510</td>\n      <td>1</td>\n      <td>1</td>\n    </tr>\n    <tr>\n      <th>18</th>\n      <td>c16243825Y</td>\n      <td>1.0</td>\n      <td>0.0</td>\n      <td>2.139910e+03</td>\n      <td>370</td>\n      <td>2.139910e+03</td>\n      <td>370</td>\n      <td>2.139910e+03</td>\n      <td>370</td>\n      <td>1</td>\n      <td>0</td>\n    </tr>\n    <tr>\n      <th>19</th>\n      <td>e12723895d</td>\n      <td>0.0</td>\n      <td>1.0</td>\n      <td>2.465034e+02</td>\n      <td>149</td>\n      <td>2.465034e+02</td>\n      <td>149</td>\n      <td>2.465034e+02</td>\n      <td>149</td>\n      <td>1</td>\n      <td>1</td>\n    </tr>\n    <tr>\n      <th>20</th>\n      <td>f78566793v</td>\n      <td>0.0</td>\n      <td>1.0</td>\n      <td>2.838551e+03</td>\n      <td>696</td>\n      <td>2.838551e+03</td>\n      <td>696</td>\n      <td>2.838551e+03</td>\n      <td>696</td>\n      <td>1</td>\n      <td>1</td>\n    </tr>\n    <tr>\n      <th>21</th>\n      <td>h14343699V</td>\n      <td>1.0</td>\n      <td>0.0</td>\n      <td>1.588429e+02</td>\n      <td>135</td>\n      <td>1.588429e+02</td>\n      <td>135</td>\n      <td>1.588429e+02</td>\n      <td>135</td>\n      <td>1</td>\n      <td>0</td>\n    </tr>\n    <tr>\n      <th>22</th>\n      <td>i21972487P</td>\n      <td>1.0</td>\n      <td>0.0</td>\n      <td>5.423140e+02</td>\n      <td>526</td>\n      <td>5.423140e+02</td>\n      <td>526</td>\n      <td>5.423140e+02</td>\n      <td>526</td>\n      <td>1</td>\n      <td>0</td>\n    </tr>\n    <tr>\n      <th>23</th>\n      <td>o11160326l</td>\n      <td>1.0</td>\n      <td>0.0</td>\n      <td>3.186288e+03</td>\n      <td>1184</td>\n      <td>3.186288e+03</td>\n      <td>1184</td>\n      <td>3.186288e+03</td>\n      <td>1184</td>\n      <td>1</td>\n      <td>0</td>\n    </tr>\n    <tr>\n      <th>24</th>\n      <td>q16643160J</td>\n      <td>1.0</td>\n      <td>0.0</td>\n      <td>2.407440e+03</td>\n      <td>1524</td>\n      <td>2.407440e+03</td>\n      <td>1524</td>\n      <td>2.407440e+03</td>\n      <td>1524</td>\n      <td>1</td>\n      <td>0</td>\n    </tr>\n    <tr>\n      <th>25</th>\n      <td>r94110346t</td>\n      <td>1.0</td>\n      <td>0.0</td>\n      <td>5.555052e+05</td>\n      <td>163944</td>\n      <td>5.555052e+05</td>\n      <td>163944</td>\n      <td>5.555052e+05</td>\n      <td>163944</td>\n      <td>1</td>\n      <td>0</td>\n    </tr>\n    <tr>\n      <th>26</th>\n      <td>u92005384K</td>\n      <td>1.0</td>\n      <td>0.0</td>\n      <td>2.578132e+03</td>\n      <td>1179</td>\n      <td>2.578132e+03</td>\n      <td>1179</td>\n      <td>2.578132e+03</td>\n      <td>1179</td>\n      <td>1</td>\n      <td>0</td>\n    </tr>\n    <tr>\n      <th>27</th>\n      <td>v12246955f</td>\n      <td>0.0</td>\n      <td>1.0</td>\n      <td>3.815370e+02</td>\n      <td>106</td>\n      <td>3.815370e+02</td>\n      <td>106</td>\n      <td>3.815370e+02</td>\n      <td>106</td>\n      <td>1</td>\n      <td>1</td>\n    </tr>\n    <tr>\n      <th>28</th>\n      <td>y14157953A</td>\n      <td>1.0</td>\n      <td>0.0</td>\n      <td>2.093983e+03</td>\n      <td>681</td>\n      <td>2.093983e+03</td>\n      <td>681</td>\n      <td>2.093983e+03</td>\n      <td>681</td>\n      <td>1</td>\n      <td>0</td>\n    </tr>\n    <tr>\n      <th>29</th>\n      <td>z19432069u</td>\n      <td>1.0</td>\n      <td>0.0</td>\n      <td>1.729629e+03</td>\n      <td>555</td>\n      <td>1.729629e+03</td>\n      <td>555</td>\n      <td>1.729629e+03</td>\n      <td>555</td>\n      <td>1</td>\n      <td>0</td>\n    </tr>\n  </tbody>\n</table>\n</div>"
     },
     "execution_count": 185,
     "metadata": {},
     "output_type": "execute_result"
    }
   ],
   "source": [
    "one = df.pivot_table(index=['user_id'], columns='car_type', values='car_id', aggfunc=['count']).fillna(0)\n",
    "one.columns = [f'{i[1]}_{i[0]}' for i in one.columns]\n",
    "\n",
    "two = df.pivot_table(index=['user_id'], values=['distance','ride_cost'], aggfunc=['min', 'max', 'mean']).fillna(0)\n",
    "two.columns = [f'{i[1]}_{i[0]}' for i in two.columns]\n",
    "\n",
    "three = df.pivot_table(index=['user_id'], values='car_id', aggfunc=['nunique'])\n",
    "three.columns = [f'{i[1]}_{i[0]}' for i in three.columns]\n",
    "\n",
    "max = df.pivot_table(index=['user_id'], values='speed_max', aggfunc=['max'])\n",
    "max.columns = ['crazy_driver']\n",
    "max['crazy_driver'] = max['crazy_driver'].apply(lambda x: 1 if x > 100 else 0)\n",
    "\n",
    "result = one.merge(two, how='left', left_index=True, right_index=True)\n",
    "result = result.merge(three, how='left', left_index=True, right_index=True)\n",
    "result = result.merge(max, how='left', left_index=True, right_index=True)\n",
    "result.reset_index(inplace=True)\n",
    "\n",
    "result"
   ],
   "metadata": {
    "collapsed": false,
    "ExecuteTime": {
     "end_time": "2023-08-24T14:46:14.900902Z",
     "start_time": "2023-08-24T14:46:14.877193Z"
    }
   }
  },
  {
   "cell_type": "code",
   "execution_count": 182,
   "outputs": [],
   "source": [],
   "metadata": {
    "collapsed": false,
    "ExecuteTime": {
     "end_time": "2023-08-24T14:46:10.101863Z",
     "start_time": "2023-08-24T14:46:10.099643Z"
    }
   }
  },
  {
   "cell_type": "code",
   "execution_count": 182,
   "outputs": [],
   "source": [],
   "metadata": {
    "collapsed": false,
    "ExecuteTime": {
     "end_time": "2023-08-24T14:46:11.423946Z",
     "start_time": "2023-08-24T14:46:11.420997Z"
    }
   }
  },
  {
   "cell_type": "code",
   "execution_count": 156,
   "outputs": [],
   "source": [],
   "metadata": {
    "collapsed": false,
    "ExecuteTime": {
     "end_time": "2023-08-24T14:39:16.373596Z",
     "start_time": "2023-08-24T14:39:16.282541Z"
    }
   }
  },
  {
   "cell_type": "code",
   "execution_count": 156,
   "outputs": [],
   "source": [],
   "metadata": {
    "collapsed": false,
    "ExecuteTime": {
     "end_time": "2023-08-24T14:39:16.373722Z",
     "start_time": "2023-08-24T14:39:16.284302Z"
    }
   }
  },
  {
   "cell_type": "code",
   "execution_count": 156,
   "outputs": [],
   "source": [],
   "metadata": {
    "collapsed": false,
    "ExecuteTime": {
     "end_time": "2023-08-24T14:39:16.400162Z",
     "start_time": "2023-08-24T14:39:16.286101Z"
    }
   }
  },
  {
   "cell_type": "code",
   "execution_count": 156,
   "outputs": [],
   "source": [],
   "metadata": {
    "collapsed": false,
    "ExecuteTime": {
     "end_time": "2023-08-24T14:39:16.400340Z",
     "start_time": "2023-08-24T14:39:16.287675Z"
    }
   }
  },
  {
   "cell_type": "code",
   "execution_count": 156,
   "outputs": [],
   "source": [],
   "metadata": {
    "collapsed": false,
    "ExecuteTime": {
     "end_time": "2023-08-24T14:39:16.404764Z",
     "start_time": "2023-08-24T14:39:16.289223Z"
    }
   }
  }
 ],
 "metadata": {
  "kernelspec": {
   "display_name": "Python 3",
   "language": "python",
   "name": "python3"
  },
  "language_info": {
   "codemirror_mode": {
    "name": "ipython",
    "version": 2
   },
   "file_extension": ".py",
   "mimetype": "text/x-python",
   "name": "python",
   "nbconvert_exporter": "python",
   "pygments_lexer": "ipython2",
   "version": "2.7.6"
  }
 },
 "nbformat": 4,
 "nbformat_minor": 0
}
